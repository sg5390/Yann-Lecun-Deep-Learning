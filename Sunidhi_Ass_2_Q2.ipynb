{
 "cells": [
  {
   "cell_type": "markdown",
   "metadata": {
    "id": "JccQsl2OtAOi"
   },
   "source": [
    "### Imports "
   ]
  },
  {
   "cell_type": "code",
   "execution_count": 1,
   "metadata": {
    "id": "5elHgLPSoiT7"
   },
   "outputs": [],
   "source": [
    "import torch \n",
    "import torchvision\n",
    "import torch.nn as nn \n",
    "from IPython.display import Image \n",
    "from torchvision import transforms\n",
    "import matplotlib.pyplot as plt\n",
    "import random\n",
    "from torch.utils.data import DataLoader\n",
    "from tqdm.auto import tqdm\n",
    "device = torch.device(\"cuda\" if torch.cuda.is_available() else \"cpu\")\n",
    "seed = 12345\n",
    "random.seed(seed)\n",
    "torch.manual_seed(seed)\n",
    "\n",
    "\n",
    "from bokeh.io import curdoc\n",
    "from bokeh.layouts import column\n",
    "from bokeh.models import ColumnDataSource\n",
    "from bokeh.plotting import figure\n",
    "from functools import partial\n",
    "from threading import Thread\n",
    "from tornado import gen"
   ]
  },
  {
   "cell_type": "markdown",
   "metadata": {
    "id": "y8Aj_LrAhwRP"
   },
   "source": [
    "#### Mount your google drive so you can save model checkpoints, and report your test results on the final best model after hyperparameter tuning"
   ]
  },
  {
   "cell_type": "code",
   "execution_count": 2,
   "metadata": {
    "colab": {
     "base_uri": "https://localhost:8080/",
     "height": 34
    },
    "id": "utx0ySGqQbha",
    "outputId": "58a8a4f5-656c-4454-d729-9c66d22a74ff"
   },
   "outputs": [
    {
     "name": "stdout",
     "output_type": "stream",
     "text": [
      "Mounted at /content/drive\n"
     ]
    }
   ],
   "source": [
    "from google.colab import drive\n",
    "drive.mount('/content/drive')"
   ]
  },
  {
   "cell_type": "markdown",
   "metadata": {
    "id": "zqzOqBsvs9kA"
   },
   "source": [
    "### Data loading "
   ]
  },
  {
   "cell_type": "markdown",
   "metadata": {
    "id": "3-3MVXNOhdCc"
   },
   "source": [
    "##### Run the following cells to load the dataset. Setting download=True will download it for you."
   ]
  },
  {
   "cell_type": "code",
   "execution_count": 3,
   "metadata": {
    "colab": {
     "base_uri": "https://localhost:8080/",
     "height": 102,
     "referenced_widgets": [
      "f9d269bfcddf4e3bbaa27795a9128dff",
      "b0d65ecf22df431db5359f597e16baa3",
      "24a57e6203794641b08ef6a173d22769",
      "cd00b1ff1d814450a5c87b0c7e6befe2",
      "f200ed4600424c21aff169e0b6477bfd",
      "0e480b70524f4b0bbb903d4bb92eb316",
      "493e7aaae59c44fd8450b25ddcab99d8",
      "be98aca98a3344b7b5b2dcdffb94fc51"
     ]
    },
    "id": "8rb7Ng7_VcwL",
    "outputId": "72f7f5db-0a93-430b-d41d-f9ff66517e8b"
   },
   "outputs": [
    {
     "name": "stdout",
     "output_type": "stream",
     "text": [
      "Downloading https://www.cs.toronto.edu/~kriz/cifar-10-python.tar.gz to ./cifar10/cifar-10-python.tar.gz\n"
     ]
    },
    {
     "data": {
      "application/vnd.jupyter.widget-view+json": {
       "model_id": "f9d269bfcddf4e3bbaa27795a9128dff",
       "version_major": 2,
       "version_minor": 0
      },
      "text/plain": [
       "HBox(children=(FloatProgress(value=1.0, bar_style='info', max=1.0), HTML(value='')))"
      ]
     },
     "metadata": {
      "tags": []
     },
     "output_type": "display_data"
    },
    {
     "name": "stdout",
     "output_type": "stream",
     "text": [
      "Extracting ./cifar10/cifar-10-python.tar.gz to ./cifar10\n",
      "Files already downloaded and verified\n"
     ]
    }
   ],
   "source": [
    "cifar10_train = torchvision.datasets.CIFAR10(root='./cifar10', \n",
    "                                             train=True, \n",
    "                                             transform=None, \n",
    "                                             target_transform=None,\n",
    "                                             download=True)\n",
    "cifar10_test = torchvision.datasets.CIFAR10(root='./cifar10', \n",
    "                                             train=False, \n",
    "                                             transform=None, \n",
    "                                             target_transform=None,\n",
    "                                             download=True)\n",
    "\n",
    "# Divides the dataset into train and val so that we can use the val to choose our hyperparameters\n",
    "train_dataset, val_dataset = torch.utils.data.random_split(cifar10_train, [40000, 10000], \n",
    "                                                           generator=torch.Generator().manual_seed(12345))\n",
    "test_dataset = cifar10_test"
   ]
  },
  {
   "cell_type": "code",
   "execution_count": 4,
   "metadata": {
    "colab": {
     "base_uri": "https://localhost:8080/",
     "height": 34
    },
    "id": "SBXoxGXxXCLn",
    "outputId": "e1354dfc-046f-4c92-d0f7-ca74da39200e"
   },
   "outputs": [
    {
     "data": {
      "text/plain": [
       "(50000, 32, 32, 3)"
      ]
     },
     "execution_count": 4,
     "metadata": {
      "tags": []
     },
     "output_type": "execute_result"
    }
   ],
   "source": [
    "train_dataset.dataset.data.shape"
   ]
  },
  {
   "cell_type": "code",
   "execution_count": 5,
   "metadata": {
    "colab": {
     "base_uri": "https://localhost:8080/",
     "height": 34
    },
    "id": "S7tqEWJCa40S",
    "outputId": "5d278b43-7173-4b32-adcb-fdeba5469ef7"
   },
   "outputs": [
    {
     "data": {
      "text/plain": [
       "{0, 1, 2, 3, 4, 5, 6, 7, 8, 9}"
      ]
     },
     "execution_count": 5,
     "metadata": {
      "tags": []
     },
     "output_type": "execute_result"
    }
   ],
   "source": [
    "set(train_dataset.dataset.targets)"
   ]
  },
  {
   "cell_type": "code",
   "execution_count": 6,
   "metadata": {
    "id": "J_NzhpK8KvQC"
   },
   "outputs": [],
   "source": [
    "# Helper code to support adding different transforms on the dataset lazily after downloading the dataset\n",
    "# From https://discuss.pytorch.org/t/apply-different-transform-data-augmentation-to-train-and-validation/63580/5\n",
    "class MapDataset(torch.utils.data.Dataset):\n",
    "    \"\"\"\n",
    "    Given a dataset, creates a dataset which applies a mapping function\n",
    "    to its items (lazily, only when an item is called).\n",
    "\n",
    "    Note that data is not cloned/copied from the initial dataset.\n",
    "    \"\"\"\n",
    "\n",
    "    def __init__(self, dataset, map_fn):\n",
    "        self.dataset = dataset\n",
    "        self.map = map_fn\n",
    " \n",
    "    def __getitem__(self, index):\n",
    "        if self.map:     \n",
    "            x = self.map(self.dataset[index][0]) \n",
    "        else:     \n",
    "            x = self.dataset[index][0]  \n",
    "        y = self.dataset[index][1]         \n",
    "        return x, y\n",
    "\n",
    "    def __len__(self):\n",
    "        return len(self.dataset)"
   ]
  },
  {
   "cell_type": "markdown",
   "metadata": {
    "id": "MMbXzcUiKc7e"
   },
   "source": [
    "#### Standard transforms to apply on images - Convert to tensors and normalize with mean and std. These are the basic transforms that you will always apply. The mean and std have been pre calculated on the training set. "
   ]
  },
  {
   "cell_type": "code",
   "execution_count": 7,
   "metadata": {
    "id": "LWEKU9xQKbkW"
   },
   "outputs": [],
   "source": [
    "# Notice that we apply the same mean and std normalization calculated on train, to both the train and test datasets.\n",
    "test_transform = transforms.Compose([\n",
    "                                     transforms.ToTensor(),\n",
    "                                     transforms.Normalize(\n",
    "                                         [0.4373, 0.4434, 0.4725],\n",
    "                                         [0.1201, 0.1231, 0.1052])\n",
    "                                     ])\n",
    "\n",
    "train_transform = transforms.Compose([\n",
    "                                      transforms.ToTensor(),\n",
    "                                      transforms.Normalize(\n",
    "                                          [0.4373, 0.4434, 0.4725],\n",
    "                                          [0.1201, 0.1231, 0.1052])\n",
    "                                      ])\n"
   ]
  },
  {
   "cell_type": "code",
   "execution_count": 8,
   "metadata": {
    "id": "TrDIxTs2JwbO"
   },
   "outputs": [],
   "source": [
    "train_dataset_w_transform  = MapDataset(train_dataset, train_transform)\n",
    "val_dataset_w_transform = MapDataset(val_dataset, test_transform)\n",
    "test_dataset_w_transform = MapDataset(test_dataset, test_transform)"
   ]
  },
  {
   "cell_type": "code",
   "execution_count": 9,
   "metadata": {
    "id": "4LcExDS1tyjI"
   },
   "outputs": [],
   "source": [
    "bs = 128\n",
    "torch.backends.cudnn.benchmark = True\n",
    "train_loader = DataLoader(train_dataset_w_transform, batch_size=bs, shuffle=True, drop_last=False,num_workers=10, pin_memory=True)\n",
    "val_loader = DataLoader(val_dataset_w_transform, batch_size=bs, shuffle=False, drop_last=False,num_workers=10, pin_memory=True)\n",
    "test_loader = DataLoader(test_dataset, batch_size=bs, shuffle=False, drop_last=False,num_workers=10, pin_memory=True)"
   ]
  },
  {
   "cell_type": "markdown",
   "metadata": {
    "id": "pXLFsEihoMTn"
   },
   "source": [
    "### Q 2.1 Training loop"
   ]
  },
  {
   "cell_type": "markdown",
   "metadata": {
    "id": "ksECLwMqkgj_"
   },
   "source": [
    "In this question, fill in the missing parts to build a generic training loop that returns the train and validation losses and accuracies. The #TODOs will guide you through the key points and you should fill some code for each #TODO. You might need to add some additional code for bookkeeping the losses and accuracies"
   ]
  },
  {
   "cell_type": "code",
   "execution_count": 10,
   "metadata": {
    "id": "GnmWg9P9N5U_"
   },
   "outputs": [],
   "source": [
    "def train_loop(model, criterion, optimizer,  train_loader, val_loader):\n",
    "    \"\"\"\n",
    "    Generic training loop\n",
    "\n",
    "    Parameters\n",
    "    ----------\n",
    "    model : Object instance of your model class \n",
    "    criterion : Loss function \n",
    "    optimizer : Instance of optimizer class of your choice \n",
    "    train_loader : Training data loader \n",
    "    val_loader : Validation data loader\n",
    "\n",
    "    Returns\n",
    "    -------\n",
    "    train_losses : List with train loss on dataset per epoch\n",
    "    train_accuracies : List with train accuracy on dataset per epoch\n",
    "    val_losses : List with validation loss on dataset per epoch\n",
    "    val_accuracies : List with validation accuracy on dataset per epoch\n",
    "\n",
    "    \"\"\"\n",
    "    best_val = 0.0\n",
    "    train_losses = []\n",
    "    val_losses = []\n",
    "    train_accuracies = []\n",
    "    val_accuracies = []\n",
    "    max_patience = 5\n",
    "    patience_counter = 0\n",
    "\n",
    "    # Training\n",
    "    for t in tqdm(range(50)):\n",
    "      # TODO : Set the model to train mode \n",
    "        model.train()  \n",
    "        # TODO: Loop over the training set \n",
    "        n_correct, n_total = 0, 0\n",
    "        iterator = enumerate(train_loader)\n",
    "        for i,(inp,target) in iterator:\n",
    "            # TODO: Put the inputs and targets on the write device\n",
    "            inp = inp.to(device)\n",
    "            target = target.to(device)\n",
    "            # TODO: Feed forward to get the logits\n",
    "            logits = model(inp)\n",
    "            # TODO: Compute the loss and accuracy\n",
    "            loss = criterion(logits.view(-1, logits.size(-1)), target.view(-1)) # one of the important steps\n",
    "            # Computing training accuracy below.\n",
    "            n_correct += (torch.max(logits, 1)[1].view(\n",
    "              target.size()) == target).sum().item()\n",
    "            n_total += len(target)\n",
    "            # train_acc = n_correct / n_total\n",
    "            # print('Epoch {}, train Loss: {:.3f}'.format(t, loss.item()), \"Training Accuracy: %d %%\" % (train_acc))\n",
    "            # TODO: zero the gradients before running\n",
    "            # the backward pass.\n",
    "            optimizer.zero_grad()\n",
    "            # TODO: Backward pass to compute the gradient\n",
    "            # of loss w.r.t our learnable params. \n",
    "            loss.backward()\n",
    "            # TODO: Update params\n",
    "            optimizer.step()\n",
    "            # TODO: Keep track of accuracy and loss\n",
    "        train_acc = n_correct / n_total\n",
    "        train_losses.append(loss)\n",
    "        train_accuracies.append(train_acc)\n",
    "\n",
    "     \n",
    "\n",
    "        # TODO: Switch the model to eval mode\n",
    "        model.eval()\n",
    "        with torch.no_grad():\n",
    "        # TODO: Loop over the validation set \n",
    "            val_n_correct, val_n_total = 0, 0\n",
    "            val_iterator = enumerate(val_loader)\n",
    "        for i,(val_inp,val_target) in val_iterator:\n",
    "            # TODO: Put the inputs and targets on the write device\n",
    "            val_inp = val_inp.to(device)\n",
    "            val_target = val_target.to(device)\n",
    "            # TODO: Feed forward to get the logits\n",
    "            val_logits = model(val_inp)\n",
    "            # TODO: Compute the loss and accuracy\n",
    "            val_loss = criterion(val_logits.view(-1, val_logits.size(-1)), val_target.view(-1))\n",
    "            val_n_correct += (torch.max(val_logits, 1)[1].view(val_target.size()) == val_target).sum().item()\n",
    "            val_n_total += len(val_inp)\n",
    "            val_accuracy = val_n_correct / val_n_total\n",
    "            # TODO: Keep track of accuracy and loss\n",
    "            val_losses.append(val_loss)\n",
    "            val_accuracies.append(val_accuracy)\n",
    "            \n",
    "\n",
    "        if val_accuracies[-1] > best_val:\n",
    "            best_val = val_accuracies[-1]\n",
    "            patience_counter = 0\n",
    "        # TODO: Save best model, optimizer, epoch_number\n",
    "        # torch.save(model.state_dict(), '/content/drive/My Drive/colabs/assignment_2/best-params.pt')\n",
    "        \n",
    "        # torch.save({'best_model': model.state_dict(),'optimizer': optimizer.state_dict()},\n",
    "        # '/content/drive/My Drive/colabs/assignment_2/best-params.pt'.format(args['results_dir'], args['model'], args['dataset']))\n",
    "        else:\n",
    "            patience_counter += 1    \n",
    "            if patience_counter > max_patience:\n",
    "                break\n",
    "\n",
    "      \n",
    "    print(\"[EPOCH]: %i, [TRAIN LOSS]: %.6f, [TRAIN ACCURACY]: %.3f\" % (t, train_losses[-1], train_accuracies[-1]))\n",
    "    print(\"[EPOCH]: %i, [VAL LOSS]: %.6f, [VAL ACCURACY]: %.3f \\n\" % (t, val_losses[-1] ,val_accuracies[-1]))\n",
    "return train_losses, train_accuracies, val_losses, val_accuracies"
   ]
  },
  {
   "cell_type": "markdown",
   "metadata": {
    "id": "0sdCTYUouY4o"
   },
   "source": [
    "### Q 2.2 Shallow convolutional network. "
   ]
  },
  {
   "cell_type": "code",
   "execution_count": 11,
   "metadata": {
    "id": "FKqYI2qxp95J"
   },
   "outputs": [],
   "source": [
    "class View(nn.Module):\n",
    "    def __init__(self, shape):\n",
    "        super().__init__()\n",
    "        self.shape = shape\n",
    "\n",
    "    def forward(self, x):\n",
    "        return x.view(*self.shape)"
   ]
  },
  {
   "cell_type": "code",
   "execution_count": 12,
   "metadata": {
    "id": "FDHE0lOgpF0W"
   },
   "outputs": [],
   "source": [
    "\n",
    "ShallowNet =  nn.Sequential(\n",
    "      nn.Conv2d(in_channels = 3, out_channels = 64, kernel_size=5, padding=2),\n",
    "      nn.ReLU(),\n",
    "      nn.MaxPool2d(kernel_size=2),\n",
    "      nn.Conv2d(in_channels = 64, out_channels = 128, kernel_size=3, padding=1),\n",
    "      nn.ReLU(),\n",
    "      nn.MaxPool2d(kernel_size=2),\n",
    "      nn.Conv2d(in_channels = 128, out_channels = 256, kernel_size=3, padding=1),\n",
    "      nn.ReLU(),\n",
    "      nn.MaxPool2d(kernel_size=8),\n",
    "      View((-1,256)),\n",
    "      nn.Linear(256, 10),\n",
    ")"
   ]
  },
  {
   "cell_type": "markdown",
   "metadata": {
    "id": "iV26KJLDrzhx"
   },
   "source": [
    "#### Write the object oriented version of ShallowNet"
   ]
  },
  {
   "cell_type": "code",
   "execution_count": 13,
   "metadata": {
    "id": "H8YygdvnuqDM"
   },
   "outputs": [],
   "source": [
    "class ShallowConvnet(nn.Module):\n",
    "    def __init__(self, input_channels, num_classes):\n",
    "      \"\"\"\n",
    "\n",
    "      Parameters\n",
    "      ----------\n",
    "      input_channels : Number of input channels\n",
    "      num_classes : Number of classes for the final prediction \n",
    "      \"\"\"\n",
    "      # TODO\n",
    "        super(ShallowConvnet, self).__init__()\n",
    "        # self.in_channels = input_channels\n",
    "        # self.num_classes = num_classes\n",
    "        #Block 1 with convolutional, activation and pooling layer\n",
    "        self.conv1 = nn.Conv2d(in_channels = input_channels, out_channels = 64, kernel_size=5, padding=2)\n",
    "        self.act1 = nn.ReLU()\n",
    "        self.pool1 = nn.MaxPool2d(kernel_size=2)\n",
    "        #Block 2 with convolutional, activation and pooling layer\n",
    "        self.conv2 = nn.Conv2d(in_channels = 64, out_channels = 128, kernel_size=3, padding=1)\n",
    "        self.act2 = nn.ReLU()\n",
    "        self.pool2 = nn.MaxPool2d(kernel_size=2)\n",
    "        #Block 3 with convolutional, activation and pooling layer\n",
    "        self.conv3 = nn.Conv2d(in_channels = 128, out_channels = 256, kernel_size=3, padding=1)\n",
    "        self.act3 = nn.ReLU()\n",
    "        self.pool3 = nn.MaxPool2d(kernel_size=8)\n",
    "\n",
    "        self.view = View((-1,256))\n",
    "        self.linear = nn.Linear(256, num_classes)\n",
    "\n",
    "\n",
    "    def forward(self, x):\n",
    "        \"\"\"\n",
    "\n",
    "        Parameters\n",
    "        ----------\n",
    "        x\n",
    "        \n",
    "\n",
    "        Returns\n",
    "        -------\n",
    "        output : Result after running through the model\n",
    "        \"\"\"\n",
    "        \n",
    "        # TODO\n",
    "        x = self.conv1(x)\n",
    "        x = self.act1(x)\n",
    "        x = self.pool1(x)\n",
    "\n",
    "        x = self.conv2(x)\n",
    "        x = self.act2(x)\n",
    "        x = self.pool2(x)\n",
    "\n",
    "        x = self.conv3(x)\n",
    "        x = self.act3(x)\n",
    "        x = self.pool3(x)\n",
    "\n",
    "        x = self.view(x)\n",
    "\n",
    "        output = self.linear(x)\n",
    "        return output\n",
    "        "
   ]
  },
  {
   "cell_type": "markdown",
   "metadata": {
    "id": "UjEH5jIhwnet"
   },
   "source": [
    "### Q2.3 Instantiate the model and run this using an SGD optimizer, with the appropriate loss function for classification\n",
    "\n",
    "Report the learning curves (training and validation accuracy vs number of epochs)"
   ]
  },
  {
   "cell_type": "code",
   "execution_count": 14,
   "metadata": {
    "id": "op8dIKLFZbNv"
   },
   "outputs": [],
   "source": [
    "import matplotlib.pyplot as plt\n",
    "import numpy as np\n",
    "import math\n",
    "from numpy import *\n",
    "def my_plot(train_accuracies, val_accuracies, epochs):\n",
    "    n = linspace(0,1,epochs)\n",
    "    # .astype(int) \n",
    "    # linspace(0,epochs,epochs)\n",
    "    fig, ax = plt.subplots()\n",
    "    ax.plot(n,train_accuracies,'b',label=\"Training Accuracies vs No of Epochs \")\n",
    "    ax.plot(n,val_accuracies,'gold',label=\"Validation Accuracies vs No of Epochs\")\n",
    "\n",
    "  # legnd = ax.legend"
   ]
  },
  {
   "cell_type": "code",
   "execution_count": 15,
   "metadata": {
    "id": "PmtC9_Hdb5yE"
   },
   "outputs": [],
   "source": [
    "def my_plot1(train_losses, val_losses, epochs):\n",
    "    n = linspace(0,1,epochs)\n",
    "    # .astype(int) \n",
    "    # linspace(0,epochs,epochs)\n",
    "    fig, ax = plt.subplots()\n",
    "    ax.plot(n,train_losses,'o',label=\"Training Losses\")\n",
    "    ax.plot(n,val_losses,'pink',label=\"Validation Losses\")"
   ]
  },
  {
   "cell_type": "code",
   "execution_count": 16,
   "metadata": {
    "colab": {
     "base_uri": "https://localhost:8080/",
     "height": 1000,
     "referenced_widgets": [
      "1c1ec125a41243d1bbaa5d3ae8efe507",
      "a9062b4f98cc4d258d63f565dbde79be",
      "6e0550c17a6c48b7bf13b58631a97f7b",
      "8fa5674250cd4a0ca4a9ac8144b2f71d",
      "0a48627c10fc4033a890eceff808dad3",
      "be575f1532db48ab8f9158713aa0232b",
      "a21f8c689f944d7188bdf646c1df8d84",
      "40ee12cb8f9a49a3b18dd9f43d507f93"
     ]
    },
    "id": "_oG1E-YRu4Cj",
    "outputId": "f94daeda-2007-4b63-f696-97d2ce8f7c3f"
   },
   "outputs": [
    {
     "data": {
      "application/vnd.jupyter.widget-view+json": {
       "model_id": "1c1ec125a41243d1bbaa5d3ae8efe507",
       "version_major": 2,
       "version_minor": 0
      },
      "text/plain": [
       "HBox(children=(FloatProgress(value=0.0, max=50.0), HTML(value='')))"
      ]
     },
     "metadata": {
      "tags": []
     },
     "output_type": "display_data"
    },
    {
     "name": "stdout",
     "output_type": "stream",
     "text": [
      "[EPOCH]: 0, [TRAIN LOSS]: 2.255990, [TRAIN ACCURACY]: 0.133\n",
      "[EPOCH]: 0, [VAL LOSS]: 2.253538, [VAL ACCURACY]: 0.172 \n",
      "\n",
      "[EPOCH]: 1, [TRAIN LOSS]: 2.200280, [TRAIN ACCURACY]: 0.212\n",
      "[EPOCH]: 1, [VAL LOSS]: 2.180175, [VAL ACCURACY]: 0.247 \n",
      "\n",
      "[EPOCH]: 2, [TRAIN LOSS]: 2.162044, [TRAIN ACCURACY]: 0.258\n",
      "[EPOCH]: 2, [VAL LOSS]: 2.106536, [VAL ACCURACY]: 0.269 \n",
      "\n",
      "[EPOCH]: 3, [TRAIN LOSS]: 2.170964, [TRAIN ACCURACY]: 0.277\n",
      "[EPOCH]: 3, [VAL LOSS]: 2.033478, [VAL ACCURACY]: 0.283 \n",
      "\n",
      "[EPOCH]: 4, [TRAIN LOSS]: 2.026970, [TRAIN ACCURACY]: 0.292\n",
      "[EPOCH]: 4, [VAL LOSS]: 1.948577, [VAL ACCURACY]: 0.292 \n",
      "\n",
      "[EPOCH]: 5, [TRAIN LOSS]: 1.994828, [TRAIN ACCURACY]: 0.305\n",
      "[EPOCH]: 5, [VAL LOSS]: 1.861262, [VAL ACCURACY]: 0.306 \n",
      "\n",
      "[EPOCH]: 6, [TRAIN LOSS]: 2.008756, [TRAIN ACCURACY]: 0.316\n",
      "[EPOCH]: 6, [VAL LOSS]: 1.782893, [VAL ACCURACY]: 0.322 \n",
      "\n",
      "[EPOCH]: 7, [TRAIN LOSS]: 1.967008, [TRAIN ACCURACY]: 0.328\n",
      "[EPOCH]: 7, [VAL LOSS]: 1.727751, [VAL ACCURACY]: 0.328 \n",
      "\n",
      "[EPOCH]: 8, [TRAIN LOSS]: 1.801713, [TRAIN ACCURACY]: 0.339\n",
      "[EPOCH]: 8, [VAL LOSS]: 1.664123, [VAL ACCURACY]: 0.343 \n",
      "\n",
      "[EPOCH]: 9, [TRAIN LOSS]: 1.795254, [TRAIN ACCURACY]: 0.351\n",
      "[EPOCH]: 9, [VAL LOSS]: 1.604162, [VAL ACCURACY]: 0.360 \n",
      "\n",
      "[EPOCH]: 10, [TRAIN LOSS]: 1.761454, [TRAIN ACCURACY]: 0.362\n",
      "[EPOCH]: 10, [VAL LOSS]: 1.533860, [VAL ACCURACY]: 0.373 \n",
      "\n",
      "[EPOCH]: 11, [TRAIN LOSS]: 1.706344, [TRAIN ACCURACY]: 0.375\n",
      "[EPOCH]: 11, [VAL LOSS]: 1.479742, [VAL ACCURACY]: 0.380 \n",
      "\n",
      "[EPOCH]: 12, [TRAIN LOSS]: 1.811156, [TRAIN ACCURACY]: 0.384\n",
      "[EPOCH]: 12, [VAL LOSS]: 1.421129, [VAL ACCURACY]: 0.395 \n",
      "\n",
      "[EPOCH]: 13, [TRAIN LOSS]: 1.756296, [TRAIN ACCURACY]: 0.397\n",
      "[EPOCH]: 13, [VAL LOSS]: 1.369554, [VAL ACCURACY]: 0.404 \n",
      "\n",
      "[EPOCH]: 14, [TRAIN LOSS]: 1.478653, [TRAIN ACCURACY]: 0.408\n",
      "[EPOCH]: 14, [VAL LOSS]: 1.369289, [VAL ACCURACY]: 0.404 \n",
      "\n",
      "[EPOCH]: 15, [TRAIN LOSS]: 1.595638, [TRAIN ACCURACY]: 0.415\n",
      "[EPOCH]: 15, [VAL LOSS]: 1.273070, [VAL ACCURACY]: 0.422 \n",
      "\n",
      "[EPOCH]: 16, [TRAIN LOSS]: 1.495871, [TRAIN ACCURACY]: 0.425\n",
      "[EPOCH]: 16, [VAL LOSS]: 1.262141, [VAL ACCURACY]: 0.431 \n",
      "\n",
      "[EPOCH]: 17, [TRAIN LOSS]: 1.654947, [TRAIN ACCURACY]: 0.433\n",
      "[EPOCH]: 17, [VAL LOSS]: 1.240783, [VAL ACCURACY]: 0.437 \n",
      "\n",
      "[EPOCH]: 18, [TRAIN LOSS]: 1.575383, [TRAIN ACCURACY]: 0.441\n",
      "[EPOCH]: 18, [VAL LOSS]: 1.200631, [VAL ACCURACY]: 0.445 \n",
      "\n",
      "[EPOCH]: 19, [TRAIN LOSS]: 1.548895, [TRAIN ACCURACY]: 0.448\n",
      "[EPOCH]: 19, [VAL LOSS]: 1.172496, [VAL ACCURACY]: 0.448 \n",
      "\n",
      "[EPOCH]: 20, [TRAIN LOSS]: 1.571953, [TRAIN ACCURACY]: 0.454\n",
      "[EPOCH]: 20, [VAL LOSS]: 1.175433, [VAL ACCURACY]: 0.457 \n",
      "\n",
      "[EPOCH]: 21, [TRAIN LOSS]: 1.530529, [TRAIN ACCURACY]: 0.462\n",
      "[EPOCH]: 21, [VAL LOSS]: 1.177356, [VAL ACCURACY]: 0.460 \n",
      "\n",
      "[EPOCH]: 22, [TRAIN LOSS]: 1.701216, [TRAIN ACCURACY]: 0.468\n",
      "[EPOCH]: 22, [VAL LOSS]: 1.188579, [VAL ACCURACY]: 0.449 \n",
      "\n",
      "[EPOCH]: 23, [TRAIN LOSS]: 1.583808, [TRAIN ACCURACY]: 0.471\n",
      "[EPOCH]: 23, [VAL LOSS]: 1.130132, [VAL ACCURACY]: 0.471 \n",
      "\n",
      "[EPOCH]: 24, [TRAIN LOSS]: 1.565077, [TRAIN ACCURACY]: 0.478\n",
      "[EPOCH]: 24, [VAL LOSS]: 1.099741, [VAL ACCURACY]: 0.475 \n",
      "\n",
      "[EPOCH]: 25, [TRAIN LOSS]: 1.506884, [TRAIN ACCURACY]: 0.482\n",
      "[EPOCH]: 25, [VAL LOSS]: 1.051523, [VAL ACCURACY]: 0.485 \n",
      "\n",
      "[EPOCH]: 26, [TRAIN LOSS]: 1.408457, [TRAIN ACCURACY]: 0.490\n",
      "[EPOCH]: 26, [VAL LOSS]: 1.053621, [VAL ACCURACY]: 0.479 \n",
      "\n",
      "[EPOCH]: 27, [TRAIN LOSS]: 1.335546, [TRAIN ACCURACY]: 0.491\n",
      "[EPOCH]: 27, [VAL LOSS]: 1.062911, [VAL ACCURACY]: 0.484 \n",
      "\n",
      "[EPOCH]: 28, [TRAIN LOSS]: 1.330499, [TRAIN ACCURACY]: 0.499\n",
      "[EPOCH]: 28, [VAL LOSS]: 1.002098, [VAL ACCURACY]: 0.487 \n",
      "\n",
      "[EPOCH]: 29, [TRAIN LOSS]: 1.394105, [TRAIN ACCURACY]: 0.501\n",
      "[EPOCH]: 29, [VAL LOSS]: 1.075892, [VAL ACCURACY]: 0.492 \n",
      "\n",
      "[EPOCH]: 30, [TRAIN LOSS]: 1.420125, [TRAIN ACCURACY]: 0.508\n",
      "[EPOCH]: 30, [VAL LOSS]: 1.031293, [VAL ACCURACY]: 0.499 \n",
      "\n",
      "[EPOCH]: 31, [TRAIN LOSS]: 1.484963, [TRAIN ACCURACY]: 0.512\n",
      "[EPOCH]: 31, [VAL LOSS]: 1.044508, [VAL ACCURACY]: 0.499 \n",
      "\n",
      "[EPOCH]: 32, [TRAIN LOSS]: 1.222518, [TRAIN ACCURACY]: 0.516\n",
      "[EPOCH]: 32, [VAL LOSS]: 1.034317, [VAL ACCURACY]: 0.505 \n",
      "\n",
      "[EPOCH]: 33, [TRAIN LOSS]: 1.347256, [TRAIN ACCURACY]: 0.520\n",
      "[EPOCH]: 33, [VAL LOSS]: 0.979985, [VAL ACCURACY]: 0.506 \n",
      "\n",
      "[EPOCH]: 34, [TRAIN LOSS]: 1.544047, [TRAIN ACCURACY]: 0.523\n",
      "[EPOCH]: 34, [VAL LOSS]: 0.992059, [VAL ACCURACY]: 0.519 \n",
      "\n",
      "[EPOCH]: 35, [TRAIN LOSS]: 1.356444, [TRAIN ACCURACY]: 0.528\n",
      "[EPOCH]: 35, [VAL LOSS]: 0.933772, [VAL ACCURACY]: 0.525 \n",
      "\n",
      "[EPOCH]: 36, [TRAIN LOSS]: 1.283665, [TRAIN ACCURACY]: 0.532\n",
      "[EPOCH]: 36, [VAL LOSS]: 0.933492, [VAL ACCURACY]: 0.523 \n",
      "\n",
      "[EPOCH]: 37, [TRAIN LOSS]: 1.397343, [TRAIN ACCURACY]: 0.536\n",
      "[EPOCH]: 37, [VAL LOSS]: 0.981136, [VAL ACCURACY]: 0.520 \n",
      "\n",
      "[EPOCH]: 38, [TRAIN LOSS]: 1.503418, [TRAIN ACCURACY]: 0.539\n",
      "[EPOCH]: 38, [VAL LOSS]: 0.934389, [VAL ACCURACY]: 0.527 \n",
      "\n",
      "[EPOCH]: 39, [TRAIN LOSS]: 1.117734, [TRAIN ACCURACY]: 0.544\n",
      "[EPOCH]: 39, [VAL LOSS]: 1.011810, [VAL ACCURACY]: 0.522 \n",
      "\n",
      "[EPOCH]: 40, [TRAIN LOSS]: 1.261429, [TRAIN ACCURACY]: 0.547\n",
      "[EPOCH]: 40, [VAL LOSS]: 0.975601, [VAL ACCURACY]: 0.533 \n",
      "\n",
      "[EPOCH]: 41, [TRAIN LOSS]: 1.391577, [TRAIN ACCURACY]: 0.550\n",
      "[EPOCH]: 41, [VAL LOSS]: 0.914297, [VAL ACCURACY]: 0.538 \n",
      "\n",
      "[EPOCH]: 42, [TRAIN LOSS]: 1.179280, [TRAIN ACCURACY]: 0.551\n",
      "[EPOCH]: 42, [VAL LOSS]: 0.984974, [VAL ACCURACY]: 0.523 \n",
      "\n",
      "[EPOCH]: 43, [TRAIN LOSS]: 1.264159, [TRAIN ACCURACY]: 0.555\n",
      "[EPOCH]: 43, [VAL LOSS]: 0.932393, [VAL ACCURACY]: 0.547 \n",
      "\n",
      "[EPOCH]: 44, [TRAIN LOSS]: 1.202622, [TRAIN ACCURACY]: 0.561\n",
      "[EPOCH]: 44, [VAL LOSS]: 0.886955, [VAL ACCURACY]: 0.545 \n",
      "\n",
      "[EPOCH]: 45, [TRAIN LOSS]: 1.125875, [TRAIN ACCURACY]: 0.563\n",
      "[EPOCH]: 45, [VAL LOSS]: 0.869540, [VAL ACCURACY]: 0.548 \n",
      "\n",
      "[EPOCH]: 46, [TRAIN LOSS]: 1.228763, [TRAIN ACCURACY]: 0.566\n",
      "[EPOCH]: 46, [VAL LOSS]: 0.897303, [VAL ACCURACY]: 0.545 \n",
      "\n",
      "[EPOCH]: 47, [TRAIN LOSS]: 1.359197, [TRAIN ACCURACY]: 0.567\n",
      "[EPOCH]: 47, [VAL LOSS]: 0.951590, [VAL ACCURACY]: 0.552 \n",
      "\n",
      "[EPOCH]: 48, [TRAIN LOSS]: 1.303180, [TRAIN ACCURACY]: 0.569\n",
      "[EPOCH]: 48, [VAL LOSS]: 0.900931, [VAL ACCURACY]: 0.555 \n",
      "\n",
      "[EPOCH]: 49, [TRAIN LOSS]: 1.303387, [TRAIN ACCURACY]: 0.575\n",
      "[EPOCH]: 49, [VAL LOSS]: 0.939461, [VAL ACCURACY]: 0.554 \n",
      "\n",
      "\n"
     ]
    }
   ],
   "source": [
    "# TODO : Initialize the model and cast to correct device\n",
    "model = ShallowConvnet(3, 10)\n",
    "model.to(device)\n",
    "# TODO : Initialize the criterion\n",
    "criterion = nn.CrossEntropyLoss()\n",
    "# TODO : Initialize the SGD optimizer with lr 1e-3\n",
    "# lr = 1e-3\n",
    "optimizer = torch.optim.SGD(model.parameters(),lr = 1e-3)\n",
    "# TODO : Run the training loop using this model\n",
    "train_loss_model, train_accuracy_model, val_loss_model, val_accuracy_model =  train_loop(model, criterion, optimizer, train_loader, val_loader)\n"
   ]
  },
  {
   "cell_type": "code",
   "execution_count": null,
   "metadata": {
    "colab": {
     "base_uri": "https://localhost:8080/",
     "height": 516
    },
    "id": "pOytReQOGSff",
    "outputId": "894fa733-ec57-46b0-f8c8-c0b0e623e610"
   },
   "outputs": [
    {
     "data": {
      "image/png": "[encoded data removed]",
      "text/plain": [
       "<Figure size 432x288 with 1 Axes>"
      ]
     },
     "metadata": {
      "needs_background": "light",
      "tags": []
     },
     "output_type": "display_data"
    },
    {
     "data": {
      "image/png": "[encoded data removed]",
      "text/plain": [
       "<Figure size 432x288 with 1 Axes>"
      ]
     },
     "metadata": {
      "needs_background": "light",
      "tags": []
     },
     "output_type": "display_data"
    }
   ],
   "source": [
    "# print(len(train_loss_model))\n",
    "# print(len(train_accuracy_model))\n",
    "# print(len(val_loss_model))\n",
    "# print(len(val_accuracy_model))\n",
    "my_plot(train_accuracy_model, val_accuracy_model, 50)\n",
    "my_plot1(train_loss_model, val_loss_model, 50)"
   ]
  },
  {
   "cell_type": "markdown",
   "metadata": {
    "id": "cLRvwxlJoFQO"
   },
   "source": [
    "### Q2.4 Simple convolution network - "
   ]
  },
  {
   "cell_type": "markdown",
   "metadata": {
    "id": "lSUz9ljRxRc5"
   },
   "source": [
    "Design a convolutional neural network with the following specification: \n",
    "For each convolution layer, use appropriate padding such that it maintains the resolution of the image. The resolution should be changing only when you introduce maxpooling layers. Each convolution layer should be followed by a relu non-linearity. The first two blocks containing 3 convolutional layers are each followed by a maxpooling layer that halves the resolution of the image. After the third block, use maxpooling to get a resolution of 1 X 1. Finally, apply a linear transformation to project to the number of classes. \n",
    "\n",
    "Structure of the convolution layers of the model:\n",
    "1. Number of input channels to the model = 3\n",
    "2. First convolution layer of kernel size 5 with filter size 64 and padding such that it maintains the resolution of the image.\n",
    "3. Followed by a block of 3 convolution layers of kernel size 3, filter size 64 and padding such that it maintains the resolution of the image.\n",
    "5. Followed by 3 convolution layers of kernel size 3, filter size 128 and padding such that it maintains the resolution of the image.\n",
    "6. Followed by 3 convolution layers of kernel size 3, filter size 256 and padding such that it maintains the resolution of the image. \n",
    "\n",
    "\n"
   ]
  },
  {
   "cell_type": "code",
   "execution_count": 1,
   "metadata": {
    "colab": {
     "base_uri": "https://localhost:8080/",
     "height": 164
    },
    "id": "Y6mSx-v2dv6p",
    "outputId": "d66afb41-7391-4f51-9379-90298e7a8ca4"
   },
   "outputs": [],
   "source": [
    "# my_plot(train_accuracy_simple_convnet2, val_accuracy_simple_convnet2,   50))"
   ]
  },
  {
   "cell_type": "code",
   "execution_count": null,
   "metadata": {
    "id": "GfwKR3uNlsNc"
   },
   "outputs": [],
   "source": [
    "# Use the description of the structure of the model and the hints given below \n",
    "\n",
    "class SimpleConvnet(nn.Module):\n",
    "    def __init__(self, input_channels, num_classes):\n",
    "        super(SimpleConvnet, self).__init__()\n",
    "\n",
    "        # self.in_channels = in_channels\n",
    "        # self.num_classes = num_classes\n",
    "        \n",
    "        self.conv1 = nn.Conv2d(in_channels = input_channels, out_channels = 64, kernel_size=5, padding=2)\n",
    "\n",
    "        self.block1 = nn.Sequential(nn.Conv2d(in_channels = 64, out_channels = 64, kernel_size= 3, padding=1),\n",
    "        nn.ReLU(),\n",
    "        nn.Conv2d(in_channels = 64, out_channels = 64, kernel_size= 3, padding=1),\n",
    "        nn.ReLU(),\n",
    "        nn.Conv2d(in_channels = 64, out_channels = 64, kernel_size= 3, padding=1),\n",
    "        nn.ReLU(),\n",
    "        nn.MaxPool2d(kernel_size=2))\n",
    "        \n",
    "        self.block2 = nn.Sequential(nn.Conv2d(in_channels = 64, out_channels = 128, kernel_size= 3, padding=1),\n",
    "        nn.ReLU(),\n",
    "        nn.Conv2d(in_channels = 128, out_channels = 128, kernel_size= 3, padding=1),\n",
    "        nn.ReLU(),\n",
    "        nn.Conv2d(in_channels = 128, out_channels = 128, kernel_size= 3, padding=1),\n",
    "        nn.ReLU(),\n",
    "        nn.MaxPool2d(kernel_size=2))\n",
    "\n",
    "        self.block3 = nn.Sequential(nn.Conv2d(in_channels = 128, out_channels = 256, kernel_size= 3, padding=1),\n",
    "        nn.ReLU(),\n",
    "        nn.Conv2d(in_channels = 256, out_channels = 256, kernel_size= 3, padding=1),\n",
    "        nn.ReLU(),\n",
    "        nn.Conv2d(in_channels = 256, out_channels = 256, kernel_size= 3, padding=1),\n",
    "        nn.ReLU(),\n",
    "        nn.MaxPool2d(kernel_size=8)) \n",
    "\n",
    "        self.view = View((-1,256))\n",
    "        self.linear = nn.Linear(256, num_classes)\n",
    "\n",
    "        # self.drop_out = nn.Dropout()\n",
    "        # self.fc1 = nn.Linear(7 * 7 * 64, 1000)\n",
    "        # self.fc2 = nn.Linear(1000, 10)\n",
    "        # TODO\n",
    "        \n",
    "\n",
    "    \n",
    "    def forward(self, x):\n",
    "       \n",
    "        # TODO \n",
    "\n",
    "        # HINT: first conv layer\n",
    "        x = self.conv1(x)\n",
    "        \n",
    "        # HINT: block of 3 conv\n",
    "        out = self.block1(x)\n",
    "       \n",
    "        # HINT : block of 3 conv \n",
    "        out = self.block2(out)\n",
    "\n",
    "        # HINT: block of 3 conv \n",
    "        out = self.block3(out)\n",
    "\n",
    "        # HINT: projection \n",
    "        x = self.view(out)\n",
    "\n",
    "        output = self.linear(x)\n",
    "        return output\n",
    "        "
   ]
  },
  {
   "cell_type": "code",
   "execution_count": null,
   "metadata": {
    "colab": {
     "base_uri": "https://localhost:8080/",
     "height": 351,
     "referenced_widgets": [
      "7a0ba38a78344e4fbe00f230d258803b",
      "916a783b9d2143ba974be7d4ac92502a",
      "ba1acf768b144bbc893825f16ca3a879",
      "3892a912ff7f408cbd868dfb942f1f17",
      "4b2e589a27854ff8a1b57f09c5328d49",
      "4c7d7f9f376740e3938249a8c9e78ac6",
      "ff01351eaf694b92ac1b5b1244a02ec9",
      "29c7a458c6eb4b4d8723192f91eea493"
     ]
    },
    "id": "q_WKoU3ewH2B",
    "outputId": "a6ae063d-0f11-4a40-e069-7885b1e99ed2"
   },
   "outputs": [
    {
     "data": {
      "application/vnd.jupyter.widget-view+json": {
       "model_id": "7a0ba38a78344e4fbe00f230d258803b",
       "version_major": 2,
       "version_minor": 0
      },
      "text/plain": [
       "HBox(children=(FloatProgress(value=0.0, max=50.0), HTML(value='')))"
      ]
     },
     "metadata": {
      "tags": []
     },
     "output_type": "display_data"
    },
    {
     "name": "stdout",
     "output_type": "stream",
     "text": [
      "[EPOCH]: 0, [TRAIN LOSS]: 2.295289, [TRAIN ACCURACY]: 0.100\n",
      "[EPOCH]: 0, [VAL LOSS]: 2.298773, [VAL ACCURACY]: 0.101 \n",
      "\n",
      "[EPOCH]: 1, [TRAIN LOSS]: 2.304914, [TRAIN ACCURACY]: 0.100\n",
      "[EPOCH]: 1, [VAL LOSS]: 2.298922, [VAL ACCURACY]: 0.101 \n",
      "\n",
      "[EPOCH]: 2, [TRAIN LOSS]: 2.305602, [TRAIN ACCURACY]: 0.100\n",
      "[EPOCH]: 2, [VAL LOSS]: 2.299062, [VAL ACCURACY]: 0.101 \n",
      "\n",
      "[EPOCH]: 3, [TRAIN LOSS]: 2.303529, [TRAIN ACCURACY]: 0.100\n",
      "[EPOCH]: 3, [VAL LOSS]: 2.299195, [VAL ACCURACY]: 0.101 \n",
      "\n",
      "[EPOCH]: 4, [TRAIN LOSS]: 2.306420, [TRAIN ACCURACY]: 0.100\n",
      "[EPOCH]: 4, [VAL LOSS]: 2.299321, [VAL ACCURACY]: 0.101 \n",
      "\n",
      "[EPOCH]: 5, [TRAIN LOSS]: 2.303215, [TRAIN ACCURACY]: 0.100\n",
      "[EPOCH]: 5, [VAL LOSS]: 2.299449, [VAL ACCURACY]: 0.101 \n",
      "\n"
     ]
    }
   ],
   "source": [
    "new_model = SimpleConvnet(3, 10)\n",
    "new_model.to(device)\n",
    "# TODO : Initialize the criterion \n",
    "new_criterion = nn.CrossEntropyLoss()\n",
    "# TODO : Initialize the optimizer \n",
    "new_optimizer = torch.optim.SGD(new_model.parameters(),lr = 1e-3)\n",
    "# TODO : Run the training loop using this model\n",
    "new_train_loss_model, new_train_accuracy_model, new_val_loss_model, new_val_accuracy_model =  train_loop(new_model, new_criterion, new_optimizer, train_loader, val_loader)"
   ]
  },
  {
   "cell_type": "markdown",
   "metadata": {
    "id": "mZRJhVst0BLv"
   },
   "source": [
    "### Q 2.5 Report results of training using SGD optimizer for both ShallowNet and SimpleConvnet. What do you observe?"
   ]
  },
  {
   "cell_type": "code",
   "execution_count": 2,
   "metadata": {
    "colab": {
     "base_uri": "https://localhost:8080/",
     "height": 569
    },
    "id": "auqc_qIh82vr",
    "outputId": "6fa04c51-afae-47e2-e00d-47ba6637151a"
   },
   "outputs": [],
   "source": [
    "# my_plot(new_train_accuracy_model, new_val_accuracy_model, 7)"
   ]
  },
  {
   "cell_type": "markdown",
   "metadata": {
    "id": "uv6ExxBvLL3Y"
   },
   "source": [
    "### Q 2.6 Add batch normalization"
   ]
  },
  {
   "cell_type": "markdown",
   "metadata": {
    "id": "S8IFrRqC0WwA"
   },
   "source": [
    "#### Q2.6 a After each relu layer, add a batch normalization layer to the network SimpleConvnet you created above"
   ]
  },
  {
   "cell_type": "code",
   "execution_count": null,
   "metadata": {
    "id": "U7nvtAeBoiUX"
   },
   "outputs": [],
   "source": [
    "# class SimpleConvnet2(nn.Module):\n",
    "#     def __init__(self, in_channels, num_classes):\n",
    "#         super(SimpleConvnet2, self).__init__()\n",
    "        \n",
    "#         # TODO\n",
    "    \n",
    "#     def forward(self, x):\n",
    "       \n",
    "#        # TODO\n",
    "        \n",
    "#         return output\n",
    "        "
   ]
  },
  {
   "cell_type": "code",
   "execution_count": null,
   "metadata": {
    "id": "cTddPgrH7sFH"
   },
   "outputs": [],
   "source": [
    "def batch_normal_block(in_channels, out_channels, kernel_size, padding):\n",
    "    return nn.Sequential(\n",
    "      nn.Conv2d(in_channels= in_channels, out_channels= out_channels, kernel_size= kernel_size, padding= padding),\n",
    "      nn.ReLU(),\n",
    "      nn.BatchNorm2d(out_channels),\n",
    "      nn.Conv2d(in_channels= out_channels, out_channels= out_channels, kernel_size= kernel_size, padding= padding),\n",
    "      nn.ReLU(),\n",
    "      nn.BatchNorm2d(out_channels),\n",
    "      nn.Conv2d(in_channels= out_channels, out_channels= out_channels, kernel_size= kernel_size, padding= padding),\n",
    "      nn.ReLU(),\n",
    "      nn.BatchNorm2d(out_channels),\n",
    "  )\n",
    "class SimpleConvnet2(nn.Module):\n",
    "    def __init__(self, input_channels, num_classes):\n",
    "        super(SimpleConvnet2, self).__init__()\n",
    "        \n",
    "        # TODO\n",
    "        self.conv1 = nn.Conv2d(in_channels= input_channels, out_channels= 64, kernel_size= 5, padding= 2)\n",
    "\n",
    "        self.block1 = batch_normal_block(64, 64, 3, 1)\n",
    "        self.pool1 = nn.MaxPool2d(kernel_size=2)\n",
    "\n",
    "        self.block2 = batch_normal_block(64, 128, 3, 1)\n",
    "        self.pool2 = nn.MaxPool2d(kernel_size= 2)\n",
    "\n",
    "        self.block3 = batch_normal_block(128, 256, 3, 1)\n",
    "        self.pool3 = nn.MaxPool2d(kernel_size= 8)\n",
    "\n",
    "        shape = (-1, 256)\n",
    "        self.view = View(shape)\n",
    "\n",
    "        self.linear = nn.Linear(256, num_classes)\n",
    "    \n",
    "    def forward(self, x):\n",
    "       \n",
    "       # TODO\n",
    "        x = self.conv1(x)\n",
    "        x = self.block1(x)\n",
    "        x = self.pool1(x)\n",
    "\n",
    "        x = self.block2(x)\n",
    "        x = self.pool2(x)\n",
    "\n",
    "        x = self.block3(x)\n",
    "        x = self.pool3(x)\n",
    "\n",
    "        x = self.view(x)\n",
    "        output = self.linear(x)\n",
    "    return output"
   ]
  },
  {
   "cell_type": "code",
   "execution_count": null,
   "metadata": {
    "colab": {
     "base_uri": "https://localhost:8080/",
     "height": 1000,
     "referenced_widgets": [
      "5d730b0adc424deab8a738cda36133c7",
      "f843ccaa8b1e4757ad35c50f0729b0cf",
      "f608e23b92354935b344de2e76ae9592",
      "a185bf3d2d7c4ba0a383add2626c4d7a",
      "f3b3e9e5cb6046b9af64a7fd2fcd5274",
      "ee9f5c66a39d46039f709da0cc9c428a",
      "b90c9a3b35ed422a99280f93d19a73c5",
      "3ea434791fbb4cbfb8b8e7d4606c4489"
     ]
    },
    "id": "wwgR6H_JdD-4",
    "outputId": "a2b95b92-6728-42da-9545-666cb89516f3"
   },
   "outputs": [
    {
     "data": {
      "application/vnd.jupyter.widget-view+json": {
       "model_id": "5d730b0adc424deab8a738cda36133c7",
       "version_major": 2,
       "version_minor": 0
      },
      "text/plain": [
       "HBox(children=(FloatProgress(value=0.0, max=50.0), HTML(value='')))"
      ]
     },
     "metadata": {
      "tags": []
     },
     "output_type": "display_data"
    },
    {
     "name": "stdout",
     "output_type": "stream",
     "text": [
      "[EPOCH]: 0, [TRAIN LOSS]: 1.508587, [TRAIN ACCURACY]: 0.363\n",
      "[EPOCH]: 0, [VAL LOSS]: 1.231738, [VAL ACCURACY]: 0.445 \n",
      "\n",
      "[EPOCH]: 1, [TRAIN LOSS]: 1.678521, [TRAIN ACCURACY]: 0.498\n",
      "[EPOCH]: 1, [VAL LOSS]: 0.899191, [VAL ACCURACY]: 0.511 \n",
      "\n",
      "[EPOCH]: 2, [TRAIN LOSS]: 1.015927, [TRAIN ACCURACY]: 0.559\n",
      "[EPOCH]: 2, [VAL LOSS]: 0.892891, [VAL ACCURACY]: 0.556 \n",
      "\n",
      "[EPOCH]: 3, [TRAIN LOSS]: 1.060876, [TRAIN ACCURACY]: 0.615\n",
      "[EPOCH]: 3, [VAL LOSS]: 0.898321, [VAL ACCURACY]: 0.581 \n",
      "\n",
      "[EPOCH]: 4, [TRAIN LOSS]: 0.761238, [TRAIN ACCURACY]: 0.656\n",
      "[EPOCH]: 4, [VAL LOSS]: 0.850445, [VAL ACCURACY]: 0.604 \n",
      "\n",
      "[EPOCH]: 5, [TRAIN LOSS]: 0.863748, [TRAIN ACCURACY]: 0.694\n",
      "[EPOCH]: 5, [VAL LOSS]: 0.736718, [VAL ACCURACY]: 0.613 \n",
      "\n",
      "[EPOCH]: 6, [TRAIN LOSS]: 0.927308, [TRAIN ACCURACY]: 0.726\n",
      "[EPOCH]: 6, [VAL LOSS]: 0.783242, [VAL ACCURACY]: 0.625 \n",
      "\n",
      "[EPOCH]: 7, [TRAIN LOSS]: 0.790313, [TRAIN ACCURACY]: 0.758\n",
      "[EPOCH]: 7, [VAL LOSS]: 0.714771, [VAL ACCURACY]: 0.632 \n",
      "\n",
      "[EPOCH]: 8, [TRAIN LOSS]: 0.805512, [TRAIN ACCURACY]: 0.789\n",
      "[EPOCH]: 8, [VAL LOSS]: 0.774908, [VAL ACCURACY]: 0.640 \n",
      "\n",
      "[EPOCH]: 9, [TRAIN LOSS]: 0.586139, [TRAIN ACCURACY]: 0.820\n",
      "[EPOCH]: 9, [VAL LOSS]: 0.713967, [VAL ACCURACY]: 0.645 \n",
      "\n",
      "[EPOCH]: 10, [TRAIN LOSS]: 0.447621, [TRAIN ACCURACY]: 0.846\n",
      "[EPOCH]: 10, [VAL LOSS]: 0.735444, [VAL ACCURACY]: 0.652 \n",
      "\n",
      "[EPOCH]: 11, [TRAIN LOSS]: 0.558696, [TRAIN ACCURACY]: 0.872\n",
      "[EPOCH]: 11, [VAL LOSS]: 0.881130, [VAL ACCURACY]: 0.649 \n",
      "\n",
      "[EPOCH]: 12, [TRAIN LOSS]: 0.547906, [TRAIN ACCURACY]: 0.899\n",
      "[EPOCH]: 12, [VAL LOSS]: 0.729719, [VAL ACCURACY]: 0.661 \n",
      "\n",
      "[EPOCH]: 13, [TRAIN LOSS]: 0.246380, [TRAIN ACCURACY]: 0.919\n",
      "[EPOCH]: 13, [VAL LOSS]: 0.730503, [VAL ACCURACY]: 0.665 \n",
      "\n",
      "[EPOCH]: 14, [TRAIN LOSS]: 0.477506, [TRAIN ACCURACY]: 0.936\n",
      "[EPOCH]: 14, [VAL LOSS]: 0.804535, [VAL ACCURACY]: 0.660 \n",
      "\n"
     ]
    },
    {
     "ename": "KeyboardInterrupt",
     "evalue": "ignored",
     "output_type": "error",
     "traceback": [
      "\u001b[0;31m---------------------------------------------------------------------------\u001b[0m",
      "\u001b[0;31mKeyboardInterrupt\u001b[0m                         Traceback (most recent call last)",
      "\u001b[0;32m<ipython-input-170-0e9c66b3c244>\u001b[0m in \u001b[0;36m<module>\u001b[0;34m()\u001b[0m\n\u001b[1;32m     58\u001b[0m \u001b[0moptimizer_simple_convnet2\u001b[0m \u001b[0;34m=\u001b[0m \u001b[0mtorch\u001b[0m\u001b[0;34m.\u001b[0m\u001b[0moptim\u001b[0m\u001b[0;34m.\u001b[0m\u001b[0mSGD\u001b[0m\u001b[0;34m(\u001b[0m\u001b[0mmodel_simple_convnet2\u001b[0m\u001b[0;34m.\u001b[0m\u001b[0mparameters\u001b[0m\u001b[0;34m(\u001b[0m\u001b[0;34m)\u001b[0m\u001b[0;34m,\u001b[0m \u001b[0mlr\u001b[0m\u001b[0;34m=\u001b[0m\u001b[0;36m1e-3\u001b[0m\u001b[0;34m)\u001b[0m\u001b[0;34m\u001b[0m\u001b[0;34m\u001b[0m\u001b[0m\n\u001b[1;32m     59\u001b[0m \u001b[0;31m# TODO : Run the training loop using this model\u001b[0m\u001b[0;34m\u001b[0m\u001b[0;34m\u001b[0m\u001b[0;34m\u001b[0m\u001b[0m\n\u001b[0;32m---> 60\u001b[0;31m \u001b[0mtrain_loss_simple_convnet2\u001b[0m\u001b[0;34m,\u001b[0m \u001b[0mtrain_accuracy_simple_convnet2\u001b[0m\u001b[0;34m,\u001b[0m \u001b[0mval_loss_simple_convnet2\u001b[0m\u001b[0;34m,\u001b[0m \u001b[0mval_accuracy_simple_convnet2\u001b[0m \u001b[0;34m=\u001b[0m \u001b[0mtrain_loop\u001b[0m\u001b[0;34m(\u001b[0m\u001b[0mmodel_simple_convnet2\u001b[0m\u001b[0;34m,\u001b[0m \u001b[0mcriterion_simple_convnet2\u001b[0m\u001b[0;34m,\u001b[0m \u001b[0moptimizer_simple_convnet2\u001b[0m\u001b[0;34m,\u001b[0m \u001b[0mtrain_loader\u001b[0m\u001b[0;34m,\u001b[0m \u001b[0mval_loader\u001b[0m\u001b[0;34m)\u001b[0m\u001b[0;34m\u001b[0m\u001b[0;34m\u001b[0m\u001b[0m\n\u001b[0m\u001b[1;32m     61\u001b[0m \u001b[0;34m\u001b[0m\u001b[0m\n",
      "\u001b[0;32m<ipython-input-132-d71d5a953bf1>\u001b[0m in \u001b[0;36mtrain_loop\u001b[0;34m(model, criterion, optimizer, train_loader, val_loader)\u001b[0m\n\u001b[1;32m     73\u001b[0m             \u001b[0mval_target\u001b[0m \u001b[0;34m=\u001b[0m \u001b[0mval_target\u001b[0m\u001b[0;34m.\u001b[0m\u001b[0mto\u001b[0m\u001b[0;34m(\u001b[0m\u001b[0mdevice\u001b[0m\u001b[0;34m)\u001b[0m\u001b[0;34m\u001b[0m\u001b[0;34m\u001b[0m\u001b[0m\n\u001b[1;32m     74\u001b[0m             \u001b[0;31m# TODO: Feed forward to get the logits\u001b[0m\u001b[0;34m\u001b[0m\u001b[0;34m\u001b[0m\u001b[0;34m\u001b[0m\u001b[0m\n\u001b[0;32m---> 75\u001b[0;31m             \u001b[0mval_logits\u001b[0m \u001b[0;34m=\u001b[0m \u001b[0mmodel\u001b[0m\u001b[0;34m(\u001b[0m\u001b[0mval_inp\u001b[0m\u001b[0;34m)\u001b[0m\u001b[0;34m\u001b[0m\u001b[0;34m\u001b[0m\u001b[0m\n\u001b[0m\u001b[1;32m     76\u001b[0m             \u001b[0;31m# TODO: Compute the loss and accuracy\u001b[0m\u001b[0;34m\u001b[0m\u001b[0;34m\u001b[0m\u001b[0;34m\u001b[0m\u001b[0m\n\u001b[1;32m     77\u001b[0m             \u001b[0mval_loss\u001b[0m \u001b[0;34m=\u001b[0m \u001b[0mcriterion\u001b[0m\u001b[0;34m(\u001b[0m\u001b[0mval_logits\u001b[0m\u001b[0;34m.\u001b[0m\u001b[0mview\u001b[0m\u001b[0;34m(\u001b[0m\u001b[0;34m-\u001b[0m\u001b[0;36m1\u001b[0m\u001b[0;34m,\u001b[0m \u001b[0mval_logits\u001b[0m\u001b[0;34m.\u001b[0m\u001b[0msize\u001b[0m\u001b[0;34m(\u001b[0m\u001b[0;34m-\u001b[0m\u001b[0;36m1\u001b[0m\u001b[0;34m)\u001b[0m\u001b[0;34m)\u001b[0m\u001b[0;34m,\u001b[0m \u001b[0mval_target\u001b[0m\u001b[0;34m.\u001b[0m\u001b[0mview\u001b[0m\u001b[0;34m(\u001b[0m\u001b[0;34m-\u001b[0m\u001b[0;36m1\u001b[0m\u001b[0;34m)\u001b[0m\u001b[0;34m)\u001b[0m\u001b[0;34m\u001b[0m\u001b[0;34m\u001b[0m\u001b[0m\n",
      "\u001b[0;32m/usr/local/lib/python3.6/dist-packages/torch/nn/modules/module.py\u001b[0m in \u001b[0;36m_call_impl\u001b[0;34m(self, *input, **kwargs)\u001b[0m\n\u001b[1;32m    720\u001b[0m             \u001b[0mresult\u001b[0m \u001b[0;34m=\u001b[0m \u001b[0mself\u001b[0m\u001b[0;34m.\u001b[0m\u001b[0m_slow_forward\u001b[0m\u001b[0;34m(\u001b[0m\u001b[0;34m*\u001b[0m\u001b[0minput\u001b[0m\u001b[0;34m,\u001b[0m \u001b[0;34m**\u001b[0m\u001b[0mkwargs\u001b[0m\u001b[0;34m)\u001b[0m\u001b[0;34m\u001b[0m\u001b[0;34m\u001b[0m\u001b[0m\n\u001b[1;32m    721\u001b[0m         \u001b[0;32melse\u001b[0m\u001b[0;34m:\u001b[0m\u001b[0;34m\u001b[0m\u001b[0;34m\u001b[0m\u001b[0m\n\u001b[0;32m--> 722\u001b[0;31m             \u001b[0mresult\u001b[0m \u001b[0;34m=\u001b[0m \u001b[0mself\u001b[0m\u001b[0;34m.\u001b[0m\u001b[0mforward\u001b[0m\u001b[0;34m(\u001b[0m\u001b[0;34m*\u001b[0m\u001b[0minput\u001b[0m\u001b[0;34m,\u001b[0m \u001b[0;34m**\u001b[0m\u001b[0mkwargs\u001b[0m\u001b[0;34m)\u001b[0m\u001b[0;34m\u001b[0m\u001b[0;34m\u001b[0m\u001b[0m\n\u001b[0m\u001b[1;32m    723\u001b[0m         for hook in itertools.chain(\n\u001b[1;32m    724\u001b[0m                 \u001b[0m_global_forward_hooks\u001b[0m\u001b[0;34m.\u001b[0m\u001b[0mvalues\u001b[0m\u001b[0;34m(\u001b[0m\u001b[0;34m)\u001b[0m\u001b[0;34m,\u001b[0m\u001b[0;34m\u001b[0m\u001b[0;34m\u001b[0m\u001b[0m\n",
      "\u001b[0;32m<ipython-input-170-0e9c66b3c244>\u001b[0m in \u001b[0;36mforward\u001b[0;34m(self, x)\u001b[0m\n\u001b[1;32m     42\u001b[0m       \u001b[0mx\u001b[0m \u001b[0;34m=\u001b[0m \u001b[0mself\u001b[0m\u001b[0;34m.\u001b[0m\u001b[0mpool2\u001b[0m\u001b[0;34m(\u001b[0m\u001b[0mx\u001b[0m\u001b[0;34m)\u001b[0m\u001b[0;34m\u001b[0m\u001b[0;34m\u001b[0m\u001b[0m\n\u001b[1;32m     43\u001b[0m \u001b[0;34m\u001b[0m\u001b[0m\n\u001b[0;32m---> 44\u001b[0;31m       \u001b[0mx\u001b[0m \u001b[0;34m=\u001b[0m \u001b[0mself\u001b[0m\u001b[0;34m.\u001b[0m\u001b[0mblock3\u001b[0m\u001b[0;34m(\u001b[0m\u001b[0mx\u001b[0m\u001b[0;34m)\u001b[0m\u001b[0;34m\u001b[0m\u001b[0;34m\u001b[0m\u001b[0m\n\u001b[0m\u001b[1;32m     45\u001b[0m       \u001b[0mx\u001b[0m \u001b[0;34m=\u001b[0m \u001b[0mself\u001b[0m\u001b[0;34m.\u001b[0m\u001b[0mpool3\u001b[0m\u001b[0;34m(\u001b[0m\u001b[0mx\u001b[0m\u001b[0;34m)\u001b[0m\u001b[0;34m\u001b[0m\u001b[0;34m\u001b[0m\u001b[0m\n\u001b[1;32m     46\u001b[0m \u001b[0;34m\u001b[0m\u001b[0m\n",
      "\u001b[0;32m/usr/local/lib/python3.6/dist-packages/torch/nn/modules/module.py\u001b[0m in \u001b[0;36m_call_impl\u001b[0;34m(self, *input, **kwargs)\u001b[0m\n\u001b[1;32m    720\u001b[0m             \u001b[0mresult\u001b[0m \u001b[0;34m=\u001b[0m \u001b[0mself\u001b[0m\u001b[0;34m.\u001b[0m\u001b[0m_slow_forward\u001b[0m\u001b[0;34m(\u001b[0m\u001b[0;34m*\u001b[0m\u001b[0minput\u001b[0m\u001b[0;34m,\u001b[0m \u001b[0;34m**\u001b[0m\u001b[0mkwargs\u001b[0m\u001b[0;34m)\u001b[0m\u001b[0;34m\u001b[0m\u001b[0;34m\u001b[0m\u001b[0m\n\u001b[1;32m    721\u001b[0m         \u001b[0;32melse\u001b[0m\u001b[0;34m:\u001b[0m\u001b[0;34m\u001b[0m\u001b[0;34m\u001b[0m\u001b[0m\n\u001b[0;32m--> 722\u001b[0;31m             \u001b[0mresult\u001b[0m \u001b[0;34m=\u001b[0m \u001b[0mself\u001b[0m\u001b[0;34m.\u001b[0m\u001b[0mforward\u001b[0m\u001b[0;34m(\u001b[0m\u001b[0;34m*\u001b[0m\u001b[0minput\u001b[0m\u001b[0;34m,\u001b[0m \u001b[0;34m**\u001b[0m\u001b[0mkwargs\u001b[0m\u001b[0;34m)\u001b[0m\u001b[0;34m\u001b[0m\u001b[0;34m\u001b[0m\u001b[0m\n\u001b[0m\u001b[1;32m    723\u001b[0m         for hook in itertools.chain(\n\u001b[1;32m    724\u001b[0m                 \u001b[0m_global_forward_hooks\u001b[0m\u001b[0;34m.\u001b[0m\u001b[0mvalues\u001b[0m\u001b[0;34m(\u001b[0m\u001b[0;34m)\u001b[0m\u001b[0;34m,\u001b[0m\u001b[0;34m\u001b[0m\u001b[0;34m\u001b[0m\u001b[0m\n",
      "\u001b[0;32m/usr/local/lib/python3.6/dist-packages/torch/nn/modules/container.py\u001b[0m in \u001b[0;36mforward\u001b[0;34m(self, input)\u001b[0m\n\u001b[1;32m    115\u001b[0m     \u001b[0;32mdef\u001b[0m \u001b[0mforward\u001b[0m\u001b[0;34m(\u001b[0m\u001b[0mself\u001b[0m\u001b[0;34m,\u001b[0m \u001b[0minput\u001b[0m\u001b[0;34m)\u001b[0m\u001b[0;34m:\u001b[0m\u001b[0;34m\u001b[0m\u001b[0;34m\u001b[0m\u001b[0m\n\u001b[1;32m    116\u001b[0m         \u001b[0;32mfor\u001b[0m \u001b[0mmodule\u001b[0m \u001b[0;32min\u001b[0m \u001b[0mself\u001b[0m\u001b[0;34m:\u001b[0m\u001b[0;34m\u001b[0m\u001b[0;34m\u001b[0m\u001b[0m\n\u001b[0;32m--> 117\u001b[0;31m             \u001b[0minput\u001b[0m \u001b[0;34m=\u001b[0m \u001b[0mmodule\u001b[0m\u001b[0;34m(\u001b[0m\u001b[0minput\u001b[0m\u001b[0;34m)\u001b[0m\u001b[0;34m\u001b[0m\u001b[0;34m\u001b[0m\u001b[0m\n\u001b[0m\u001b[1;32m    118\u001b[0m         \u001b[0;32mreturn\u001b[0m \u001b[0minput\u001b[0m\u001b[0;34m\u001b[0m\u001b[0;34m\u001b[0m\u001b[0m\n\u001b[1;32m    119\u001b[0m \u001b[0;34m\u001b[0m\u001b[0m\n",
      "\u001b[0;32m/usr/local/lib/python3.6/dist-packages/torch/nn/modules/module.py\u001b[0m in \u001b[0;36m_call_impl\u001b[0;34m(self, *input, **kwargs)\u001b[0m\n\u001b[1;32m    720\u001b[0m             \u001b[0mresult\u001b[0m \u001b[0;34m=\u001b[0m \u001b[0mself\u001b[0m\u001b[0;34m.\u001b[0m\u001b[0m_slow_forward\u001b[0m\u001b[0;34m(\u001b[0m\u001b[0;34m*\u001b[0m\u001b[0minput\u001b[0m\u001b[0;34m,\u001b[0m \u001b[0;34m**\u001b[0m\u001b[0mkwargs\u001b[0m\u001b[0;34m)\u001b[0m\u001b[0;34m\u001b[0m\u001b[0;34m\u001b[0m\u001b[0m\n\u001b[1;32m    721\u001b[0m         \u001b[0;32melse\u001b[0m\u001b[0;34m:\u001b[0m\u001b[0;34m\u001b[0m\u001b[0;34m\u001b[0m\u001b[0m\n\u001b[0;32m--> 722\u001b[0;31m             \u001b[0mresult\u001b[0m \u001b[0;34m=\u001b[0m \u001b[0mself\u001b[0m\u001b[0;34m.\u001b[0m\u001b[0mforward\u001b[0m\u001b[0;34m(\u001b[0m\u001b[0;34m*\u001b[0m\u001b[0minput\u001b[0m\u001b[0;34m,\u001b[0m \u001b[0;34m**\u001b[0m\u001b[0mkwargs\u001b[0m\u001b[0;34m)\u001b[0m\u001b[0;34m\u001b[0m\u001b[0;34m\u001b[0m\u001b[0m\n\u001b[0m\u001b[1;32m    723\u001b[0m         for hook in itertools.chain(\n\u001b[1;32m    724\u001b[0m                 \u001b[0m_global_forward_hooks\u001b[0m\u001b[0;34m.\u001b[0m\u001b[0mvalues\u001b[0m\u001b[0;34m(\u001b[0m\u001b[0;34m)\u001b[0m\u001b[0;34m,\u001b[0m\u001b[0;34m\u001b[0m\u001b[0;34m\u001b[0m\u001b[0m\n",
      "\u001b[0;32m/usr/local/lib/python3.6/dist-packages/torch/nn/modules/batchnorm.py\u001b[0m in \u001b[0;36mforward\u001b[0;34m(self, input)\u001b[0m\n\u001b[1;32m    134\u001b[0m             \u001b[0mself\u001b[0m\u001b[0;34m.\u001b[0m\u001b[0mrunning_mean\u001b[0m \u001b[0;32mif\u001b[0m \u001b[0;32mnot\u001b[0m \u001b[0mself\u001b[0m\u001b[0;34m.\u001b[0m\u001b[0mtraining\u001b[0m \u001b[0;32mor\u001b[0m \u001b[0mself\u001b[0m\u001b[0;34m.\u001b[0m\u001b[0mtrack_running_stats\u001b[0m \u001b[0;32melse\u001b[0m \u001b[0;32mNone\u001b[0m\u001b[0;34m,\u001b[0m\u001b[0;34m\u001b[0m\u001b[0;34m\u001b[0m\u001b[0m\n\u001b[1;32m    135\u001b[0m             \u001b[0mself\u001b[0m\u001b[0;34m.\u001b[0m\u001b[0mrunning_var\u001b[0m \u001b[0;32mif\u001b[0m \u001b[0;32mnot\u001b[0m \u001b[0mself\u001b[0m\u001b[0;34m.\u001b[0m\u001b[0mtraining\u001b[0m \u001b[0;32mor\u001b[0m \u001b[0mself\u001b[0m\u001b[0;34m.\u001b[0m\u001b[0mtrack_running_stats\u001b[0m \u001b[0;32melse\u001b[0m \u001b[0;32mNone\u001b[0m\u001b[0;34m,\u001b[0m\u001b[0;34m\u001b[0m\u001b[0;34m\u001b[0m\u001b[0m\n\u001b[0;32m--> 136\u001b[0;31m             self.weight, self.bias, bn_training, exponential_average_factor, self.eps)\n\u001b[0m\u001b[1;32m    137\u001b[0m \u001b[0;34m\u001b[0m\u001b[0m\n\u001b[1;32m    138\u001b[0m \u001b[0;34m\u001b[0m\u001b[0m\n",
      "\u001b[0;32m/usr/local/lib/python3.6/dist-packages/torch/nn/functional.py\u001b[0m in \u001b[0;36mbatch_norm\u001b[0;34m(input, running_mean, running_var, weight, bias, training, momentum, eps)\u001b[0m\n\u001b[1;32m   2014\u001b[0m     return torch.batch_norm(\n\u001b[1;32m   2015\u001b[0m         \u001b[0minput\u001b[0m\u001b[0;34m,\u001b[0m \u001b[0mweight\u001b[0m\u001b[0;34m,\u001b[0m \u001b[0mbias\u001b[0m\u001b[0;34m,\u001b[0m \u001b[0mrunning_mean\u001b[0m\u001b[0;34m,\u001b[0m \u001b[0mrunning_var\u001b[0m\u001b[0;34m,\u001b[0m\u001b[0;34m\u001b[0m\u001b[0;34m\u001b[0m\u001b[0m\n\u001b[0;32m-> 2016\u001b[0;31m         \u001b[0mtraining\u001b[0m\u001b[0;34m,\u001b[0m \u001b[0mmomentum\u001b[0m\u001b[0;34m,\u001b[0m \u001b[0meps\u001b[0m\u001b[0;34m,\u001b[0m \u001b[0mtorch\u001b[0m\u001b[0;34m.\u001b[0m\u001b[0mbackends\u001b[0m\u001b[0;34m.\u001b[0m\u001b[0mcudnn\u001b[0m\u001b[0;34m.\u001b[0m\u001b[0menabled\u001b[0m\u001b[0;34m\u001b[0m\u001b[0;34m\u001b[0m\u001b[0m\n\u001b[0m\u001b[1;32m   2017\u001b[0m     )\n\u001b[1;32m   2018\u001b[0m \u001b[0;34m\u001b[0m\u001b[0m\n",
      "\u001b[0;31mKeyboardInterrupt\u001b[0m: "
     ]
    }
   ],
   "source": [
    "# TODO : Initialize the model and cast to correct device\n",
    "model_simple_convnet2 = SimpleConvnet2(3, 10)\n",
    "model_simple_convnet2.to(device)\n",
    "# TODO : Initialize the criterion\n",
    "criterion_simple_convnet2 = nn.CrossEntropyLoss()\n",
    "# TODO : Initialize the optimizer \n",
    "optimizer_simple_convnet2 = torch.optim.SGD(model_simple_convnet2.parameters(), lr=1e-3)\n",
    "# TODO : Run the training loop using this model\n",
    "train_loss_simple_convnet2, train_accuracy_simple_convnet2, val_loss_simple_convnet2, val_accuracy_simple_convnet2 = train_loop(model_simple_convnet2, criterion_simple_convnet2, optimizer_simple_convnet2, train_loader, val_loader)"
   ]
  },
  {
   "cell_type": "code",
   "execution_count": null,
   "metadata": {
    "colab": {
     "base_uri": "https://localhost:8080/",
     "height": 351,
     "referenced_widgets": [
      "5e21314a73be4815a40678fae4aa7f85",
      "75baaed5014e4ebab0df8cfcdc10491b",
      "4abb40cfda4f4df4a958b11aeeaec4b7",
      "f5ecbb13c9f7419d9761aef2932e6cbc",
      "da723ef2f74d4450b62aef8e156bc7e8",
      "602059d864714f13ba2e0d3784e9e26c",
      "00e0475d7a2340bc963b1f0483ad6297",
      "30a086211e7240448636751b69343deb"
     ]
    },
    "id": "hgqQzKV10tz7",
    "outputId": "eb7bd46b-d42d-4cee-f0eb-23b4af503900"
   },
   "outputs": [
    {
     "data": {
      "application/vnd.jupyter.widget-view+json": {
       "model_id": "5e21314a73be4815a40678fae4aa7f85",
       "version_major": 2,
       "version_minor": 0
      },
      "text/plain": [
       "HBox(children=(FloatProgress(value=0.0, max=50.0), HTML(value='')))"
      ]
     },
     "metadata": {
      "tags": []
     },
     "output_type": "display_data"
    },
    {
     "name": "stdout",
     "output_type": "stream",
     "text": [
      "[EPOCH]: 0, [TRAIN LOSS]: 2.306307, [TRAIN ACCURACY]: 0.100\n",
      "[EPOCH]: 0, [VAL LOSS]: 2.299711, [VAL ACCURACY]: 0.101 \n",
      "\n",
      "[EPOCH]: 1, [TRAIN LOSS]: 2.295748, [TRAIN ACCURACY]: 0.100\n",
      "[EPOCH]: 1, [VAL LOSS]: 2.299823, [VAL ACCURACY]: 0.101 \n",
      "\n",
      "[EPOCH]: 2, [TRAIN LOSS]: 2.301346, [TRAIN ACCURACY]: 0.100\n",
      "[EPOCH]: 2, [VAL LOSS]: 2.299934, [VAL ACCURACY]: 0.101 \n",
      "\n",
      "[EPOCH]: 3, [TRAIN LOSS]: 2.305264, [TRAIN ACCURACY]: 0.100\n",
      "[EPOCH]: 3, [VAL LOSS]: 2.300045, [VAL ACCURACY]: 0.101 \n",
      "\n",
      "[EPOCH]: 4, [TRAIN LOSS]: 2.308393, [TRAIN ACCURACY]: 0.100\n",
      "[EPOCH]: 4, [VAL LOSS]: 2.300154, [VAL ACCURACY]: 0.101 \n",
      "\n",
      "[EPOCH]: 5, [TRAIN LOSS]: 2.302432, [TRAIN ACCURACY]: 0.100\n",
      "[EPOCH]: 5, [VAL LOSS]: 2.300262, [VAL ACCURACY]: 0.101 \n",
      "\n"
     ]
    }
   ],
   "source": [
    "# TODO : Initialize the model and cast to correct device\n",
    "model_simple_convnet2 = SimpleConvnet2(3,10)\n",
    "model_simple_convnet2.to(device)\n",
    "# TODO : Initialize the criterion \n",
    "criterion_simple_convnet2 = nn.CrossEntropyLoss()\n",
    "# TODO : Initialize the optimizer \n",
    "optimizer_simple_convnet2 = torch.optim.SGD(model_simple_convnet2.parameters(),lr= 1e-3)\n",
    "# TODO : Run the training loop using this model\n",
    "simple_convnet2_train_loss_model, simple_convnet2_train_accuracy_model, simple_convnet2_val_loss_model, simple_convnet2_val_accuracy_model =  train_loop(new_model, new_criterion, new_optimizer, train_loader, val_loader)"
   ]
  },
  {
   "cell_type": "markdown",
   "metadata": {
    "id": "w5wqxHGa0vZe"
   },
   "source": [
    "Q2.6 b Plot the the training curves (training loss vs \\# epochs, training accuracy vs # epochs) using SGD (lr 1e-3) with and without batch normalization. Comment on the difference. "
   ]
  },
  {
   "cell_type": "markdown",
   "metadata": {
    "id": "ZW0227y408ej"
   },
   "source": [
    "#### Q2.6 c. Try running the same two networks with an Adam optimizer (lr 1e-4). Plot the the training curves (training loss vs \\# epochs, training accuracy vs # epochs) with and without batch normalization. Comment on the difference. "
   ]
  },
  {
   "cell_type": "code",
   "execution_count": null,
   "metadata": {
    "colab": {
     "base_uri": "https://localhost:8080/",
     "height": 351,
     "referenced_widgets": [
      "2452acba45434b7c9962dfcfd5b7f2c3",
      "95c17e14db1d42c1b9d146a673cd6631",
      "e10ddb83f96c44148143c1dcf43632dc",
      "c845e6b3a8ed4aecab9299165854573e",
      "c87d3ffc2c6640cab066e1ff614aaad8",
      "6238796cc60645b6a951ec857f97264d",
      "0a9d38a9a4bc4e489ffe2222211b5783",
      "49a25145b4e542c5bc81a787f2f242f2"
     ]
    },
    "id": "dskmMW_u2_-7",
    "outputId": "cd52d415-da05-4893-8379-53dad3a819c5"
   },
   "outputs": [
    {
     "data": {
      "application/vnd.jupyter.widget-view+json": {
       "model_id": "2452acba45434b7c9962dfcfd5b7f2c3",
       "version_major": 2,
       "version_minor": 0
      },
      "text/plain": [
       "HBox(children=(FloatProgress(value=0.0, max=50.0), HTML(value='')))"
      ]
     },
     "metadata": {
      "tags": []
     },
     "output_type": "display_data"
    },
    {
     "name": "stdout",
     "output_type": "stream",
     "text": [
      "[EPOCH]: 0, [TRAIN LOSS]: 3.753774, [TRAIN ACCURACY]: 0.098\n",
      "[EPOCH]: 0, [VAL LOSS]: 4.412439, [VAL ACCURACY]: 0.095 \n",
      "\n",
      "[EPOCH]: 1, [TRAIN LOSS]: 3.738616, [TRAIN ACCURACY]: 0.099\n",
      "[EPOCH]: 1, [VAL LOSS]: 4.412439, [VAL ACCURACY]: 0.095 \n",
      "\n",
      "[EPOCH]: 2, [TRAIN LOSS]: 4.008933, [TRAIN ACCURACY]: 0.099\n",
      "[EPOCH]: 2, [VAL LOSS]: 4.412439, [VAL ACCURACY]: 0.095 \n",
      "\n",
      "[EPOCH]: 3, [TRAIN LOSS]: 3.884615, [TRAIN ACCURACY]: 0.099\n",
      "[EPOCH]: 3, [VAL LOSS]: 4.412439, [VAL ACCURACY]: 0.095 \n",
      "\n",
      "[EPOCH]: 4, [TRAIN LOSS]: 3.704383, [TRAIN ACCURACY]: 0.098\n",
      "[EPOCH]: 4, [VAL LOSS]: 4.412439, [VAL ACCURACY]: 0.095 \n",
      "\n",
      "[EPOCH]: 5, [TRAIN LOSS]: 3.919669, [TRAIN ACCURACY]: 0.099\n",
      "[EPOCH]: 5, [VAL LOSS]: 4.412439, [VAL ACCURACY]: 0.095 \n",
      "\n"
     ]
    }
   ],
   "source": [
    "adam_model_simple_convnet2 = SimpleConvnet2(3, 10)\n",
    "adam_model_simple_convnet2.to(device)\n",
    "adam_optimizer_simple_convnet2 = torch.optim.Adam(model_simple_convnet2.parameters(), lr=1e-4)\n",
    "# TODO : Run the training loop using this model\n",
    "adam_train_loss_simple_convnet2, adam_train_accuracy_simple_convnet2_adam, adam_val_loss_simple_convnet2, adam_val_accuracy_simple_convnet2 = train_loop(adam_model_simple_convnet2, criterion_simple_convnet2, optimizer_simple_convnet2, train_loader, val_loader)"
   ]
  },
  {
   "cell_type": "markdown",
   "metadata": {
    "id": "XeVzHHciAt-W"
   },
   "source": [
    "#### Q2.6 d Once you choose an optimizer and see that it does train, make sure your model has enough capacity by overfitting on one batch of the data set. You should be able to get 100% train accuracy. \n"
   ]
  },
  {
   "cell_type": "markdown",
   "metadata": {
    "id": "ANkTYeTWn6Mv"
   },
   "source": [
    "### Q 2.7 Add residual connections"
   ]
  },
  {
   "cell_type": "markdown",
   "metadata": {
    "id": "A55lJPET13Q7"
   },
   "source": [
    "#### Residual connections help stabilise training and lead to faster convergence. In this question you will introduce residual connections into the SimpleConvnet2 model that you built above. \n",
    "\n",
    "We will add residual connections after each block of 3 convolutional layers. Lets consider the first block of three convolutional layers. The input to this block, the so called residual, is added to the output of the block before the final batch normalization layer of that block. \n",
    "\n",
    "\n",
    "IMP NOTE: You will notice that the number of filters of these two summands are not the same. For this, you will need to use a convolution layer on the residual component, which changes the number of filters while keeping the rest of the dimensions the same. This can be achieved with a careful selection of the in_channels, output_channels, kernel_size and padding parameters. "
   ]
  },
  {
   "cell_type": "code",
   "execution_count": null,
   "metadata": {
    "id": "rzxWZNrmUzFT"
   },
   "outputs": [],
   "source": [
    "def residual_block(in_channels, out_channels, kernel_size, padding):\n",
    "    return nn.Sequential(\n",
    "      nn.Conv2d(in_channels= in_channels, out_channels= out_channels, kernel_size= kernel_size, padding= padding),\n",
    "      nn.ReLU(),\n",
    "      nn.BatchNorm2d(out_channels),\n",
    "      nn.Conv2d(in_channels= out_channels, out_channels= out_channels, kernel_size= kernel_size, padding= padding),\n",
    "      nn.ReLU(),\n",
    "      nn.BatchNorm2d(out_channels),\n",
    "      nn.Conv2d(in_channels= out_channels, out_channels= out_channels, kernel_size= kernel_size, padding= padding),\n",
    "      nn.ReLU(),\n",
    "  )\n",
    "\n",
    "\n",
    "\n",
    "  # class SimpleConvnet2(nn.Module):\n",
    "  #   def __init__(self, input_channels, num_classes):\n",
    "  #       super(SimpleConvnet2, self).__init__()\n",
    "        \n",
    "  #       # TODO\n",
    "  #       self.conv1 = nn.Conv2d(in_channels= input_channels, out_channels= 64, kernel_size= 5, padding= 2)\n",
    "\n",
    "  #       self.block1 = batch_normal_block(64, 64, 3, 1)\n",
    "  #       self.pool1 = nn.MaxPool2d(kernel_size=2)\n",
    "\n",
    "  #       self.block2 = batch_normal_block(64, 128, 3, 1)\n",
    "  #       self.pool2 = nn.MaxPool2d(kernel_size= 2)\n",
    "\n",
    "  #       self.block3 = batch_normal_block(128, 256, 3, 1)\n",
    "  #       self.pool3 = nn.MaxPool2d(kernel_size= 8)\n",
    "\n",
    "  #       shape = (-1, 256)\n",
    "  #       self.view = View(shape)\n",
    "\n",
    "  #       self.linear = nn.Linear(256, num_classes)\n",
    "\n",
    "class ResidualConvnet(nn.Module):\n",
    "    def __init__(self, input_channels, num_classes):\n",
    "        super(ResidualConvnet, self).__init__()\n",
    "        # TODO\n",
    "        self.conv1 = nn.Conv2d(in_channels= input_channels, out_channels= 64, kernel_size= 5, padding= 2)\n",
    "\n",
    "        self.block1 = residual_block(64, 64, 3, 1)\n",
    "        self.res1 = nn.Conv2d(in_channels= 64, out_channels= 64, kernel_size= 3, padding= 1)\n",
    "        self.bn1 = nn.BatchNorm2d(64)\n",
    "        self.pool1 = nn.MaxPool2d(kernel_size=2)\n",
    "\n",
    "        self.block2 = residual_block(64, 128, 3, 1)\n",
    "        self.res2 = nn.Conv2d(in_channels= 64, out_channels= 128, kernel_size= 3, padding= 1)\n",
    "        self.bn2 = nn.BatchNorm2d(128)\n",
    "        self.pool2 = nn.MaxPool2d(kernel_size= 2)\n",
    "\n",
    "        self.block3 = residual_block(128, 256, 3, 1)\n",
    "        self.res3 = nn.Conv2d(in_channels= 128, out_channels= 256, kernel_size= 3, padding= 1)\n",
    "        self.bn3 = nn.BatchNorm2d(256)\n",
    "        self.pool3 = nn.MaxPool2d(kernel_size= 8)\n",
    "\n",
    "        shape = (-1, 256)\n",
    "        self.view = View(shape)\n",
    "\n",
    "        self.linear = nn.Linear(256, num_classes)\n",
    "\n",
    "        # self.linear = nn.Linear(256, num_classes)\n",
    "    \n",
    "    def forward(self, x):\n",
    "        \n",
    "        # TODO\n",
    "        x = self.conv1(x)\n",
    "        res1 = self.res1(x)\n",
    "        x = self.block1(x)\n",
    "        x += res1\n",
    "        x = self.bn1(x)\n",
    "        x = self.pool1(x)\n",
    "\n",
    "        res2 = self.res2(x)\n",
    "        x = self.block2(x)\n",
    "        x += res2\n",
    "        x = self.bn2(x)\n",
    "        x = self.pool2(x)\n",
    "\n",
    "        res3 = self.res3(x)\n",
    "        x = self.block3(x)\n",
    "        x += res3\n",
    "        x = self.bn3(x)\n",
    "        x = self.pool3(x)\n",
    "\n",
    "        x = self.view(x)\n",
    "\n",
    "        output = self.linear(x)\n",
    "        \n",
    "        return output\n",
    "        "
   ]
  },
  {
   "cell_type": "code",
   "execution_count": null,
   "metadata": {
    "colab": {
     "base_uri": "https://localhost:8080/",
     "height": 1000,
     "referenced_widgets": [
      "9d789007a3264becbc7ebc6c056ba909",
      "26512334d75c45aaae6393aad6cc69ab",
      "a47782b175254c7c88e43d3cb114e578",
      "d2f13a9c714b442198f1816baa7769f7",
      "909633e8eab640e5b476443ba2129cb2",
      "935edc61976642949ab10b2f8270b1dc",
      "748e5de50e1a4b3e8f1b6ac934eeded8",
      "3324576ae9e64dd2bb347291ff4d398d"
     ]
    },
    "id": "Wn9OWZiceenh",
    "outputId": "3124bf58-5462-4cd3-df0d-17cc27d3a2b8"
   },
   "outputs": [
    {
     "data": {
      "application/vnd.jupyter.widget-view+json": {
       "model_id": "9d789007a3264becbc7ebc6c056ba909",
       "version_major": 2,
       "version_minor": 0
      },
      "text/plain": [
       "HBox(children=(FloatProgress(value=0.0, max=50.0), HTML(value='')))"
      ]
     },
     "metadata": {
      "tags": []
     },
     "output_type": "display_data"
    },
    {
     "name": "stdout",
     "output_type": "stream",
     "text": [
      "[EPOCH]: 0, [TRAIN LOSS]: 1.702521, [TRAIN ACCURACY]: 0.345\n",
      "[EPOCH]: 0, [VAL LOSS]: 1.273137, [VAL ACCURACY]: 0.423 \n",
      "\n",
      "[EPOCH]: 1, [TRAIN LOSS]: 1.614496, [TRAIN ACCURACY]: 0.468\n",
      "[EPOCH]: 1, [VAL LOSS]: 1.095926, [VAL ACCURACY]: 0.480 \n",
      "\n",
      "[EPOCH]: 2, [TRAIN LOSS]: 1.234936, [TRAIN ACCURACY]: 0.529\n",
      "[EPOCH]: 2, [VAL LOSS]: 1.031163, [VAL ACCURACY]: 0.521 \n",
      "\n",
      "[EPOCH]: 3, [TRAIN LOSS]: 1.278250, [TRAIN ACCURACY]: 0.570\n",
      "[EPOCH]: 3, [VAL LOSS]: 0.928429, [VAL ACCURACY]: 0.546 \n",
      "\n",
      "[EPOCH]: 4, [TRAIN LOSS]: 1.141859, [TRAIN ACCURACY]: 0.602\n",
      "[EPOCH]: 4, [VAL LOSS]: 0.884099, [VAL ACCURACY]: 0.564 \n",
      "\n",
      "[EPOCH]: 5, [TRAIN LOSS]: 1.105352, [TRAIN ACCURACY]: 0.629\n",
      "[EPOCH]: 5, [VAL LOSS]: 0.854695, [VAL ACCURACY]: 0.583 \n",
      "\n",
      "[EPOCH]: 6, [TRAIN LOSS]: 0.928645, [TRAIN ACCURACY]: 0.653\n",
      "[EPOCH]: 6, [VAL LOSS]: 0.866119, [VAL ACCURACY]: 0.595 \n",
      "\n",
      "[EPOCH]: 7, [TRAIN LOSS]: 0.933491, [TRAIN ACCURACY]: 0.677\n",
      "[EPOCH]: 7, [VAL LOSS]: 0.743414, [VAL ACCURACY]: 0.614 \n",
      "\n",
      "[EPOCH]: 8, [TRAIN LOSS]: 0.845434, [TRAIN ACCURACY]: 0.698\n",
      "[EPOCH]: 8, [VAL LOSS]: 0.740188, [VAL ACCURACY]: 0.622 \n",
      "\n",
      "[EPOCH]: 9, [TRAIN LOSS]: 1.097049, [TRAIN ACCURACY]: 0.720\n",
      "[EPOCH]: 9, [VAL LOSS]: 0.610601, [VAL ACCURACY]: 0.621 \n",
      "\n",
      "[EPOCH]: 10, [TRAIN LOSS]: 0.732233, [TRAIN ACCURACY]: 0.739\n",
      "[EPOCH]: 10, [VAL LOSS]: 0.757806, [VAL ACCURACY]: 0.633 \n",
      "\n",
      "[EPOCH]: 11, [TRAIN LOSS]: 0.703694, [TRAIN ACCURACY]: 0.757\n",
      "[EPOCH]: 11, [VAL LOSS]: 0.622565, [VAL ACCURACY]: 0.643 \n",
      "\n",
      "[EPOCH]: 12, [TRAIN LOSS]: 0.630443, [TRAIN ACCURACY]: 0.774\n",
      "[EPOCH]: 12, [VAL LOSS]: 0.767514, [VAL ACCURACY]: 0.640 \n",
      "\n",
      "[EPOCH]: 13, [TRAIN LOSS]: 0.864840, [TRAIN ACCURACY]: 0.794\n",
      "[EPOCH]: 13, [VAL LOSS]: 0.625456, [VAL ACCURACY]: 0.646 \n",
      "\n",
      "[EPOCH]: 14, [TRAIN LOSS]: 0.543749, [TRAIN ACCURACY]: 0.812\n",
      "[EPOCH]: 14, [VAL LOSS]: 0.876103, [VAL ACCURACY]: 0.647 \n",
      "\n",
      "[EPOCH]: 15, [TRAIN LOSS]: 0.442285, [TRAIN ACCURACY]: 0.826\n",
      "[EPOCH]: 15, [VAL LOSS]: 0.699492, [VAL ACCURACY]: 0.658 \n",
      "\n",
      "[EPOCH]: 16, [TRAIN LOSS]: 0.562323, [TRAIN ACCURACY]: 0.844\n",
      "[EPOCH]: 16, [VAL LOSS]: 0.674065, [VAL ACCURACY]: 0.656 \n",
      "\n",
      "[EPOCH]: 17, [TRAIN LOSS]: 0.434143, [TRAIN ACCURACY]: 0.860\n",
      "[EPOCH]: 17, [VAL LOSS]: 0.665395, [VAL ACCURACY]: 0.667 \n",
      "\n",
      "[EPOCH]: 18, [TRAIN LOSS]: 0.365009, [TRAIN ACCURACY]: 0.878\n",
      "[EPOCH]: 18, [VAL LOSS]: 0.654976, [VAL ACCURACY]: 0.671 \n",
      "\n",
      "[EPOCH]: 19, [TRAIN LOSS]: 0.474382, [TRAIN ACCURACY]: 0.893\n",
      "[EPOCH]: 19, [VAL LOSS]: 0.711156, [VAL ACCURACY]: 0.667 \n",
      "\n",
      "[EPOCH]: 20, [TRAIN LOSS]: 0.396475, [TRAIN ACCURACY]: 0.906\n",
      "[EPOCH]: 20, [VAL LOSS]: 0.748820, [VAL ACCURACY]: 0.664 \n",
      "\n",
      "[EPOCH]: 21, [TRAIN LOSS]: 0.386255, [TRAIN ACCURACY]: 0.920\n",
      "[EPOCH]: 21, [VAL LOSS]: 0.636697, [VAL ACCURACY]: 0.672 \n",
      "\n",
      "[EPOCH]: 22, [TRAIN LOSS]: 0.298839, [TRAIN ACCURACY]: 0.934\n",
      "[EPOCH]: 22, [VAL LOSS]: 0.599514, [VAL ACCURACY]: 0.675 \n",
      "\n",
      "[EPOCH]: 23, [TRAIN LOSS]: 0.415113, [TRAIN ACCURACY]: 0.942\n",
      "[EPOCH]: 23, [VAL LOSS]: 0.665518, [VAL ACCURACY]: 0.674 \n",
      "\n",
      "[EPOCH]: 24, [TRAIN LOSS]: 0.392558, [TRAIN ACCURACY]: 0.951\n",
      "[EPOCH]: 24, [VAL LOSS]: 0.526936, [VAL ACCURACY]: 0.671 \n",
      "\n",
      "[EPOCH]: 25, [TRAIN LOSS]: 0.274945, [TRAIN ACCURACY]: 0.960\n",
      "[EPOCH]: 25, [VAL LOSS]: 0.648337, [VAL ACCURACY]: 0.674 \n",
      "\n",
      "[EPOCH]: 26, [TRAIN LOSS]: 0.318171, [TRAIN ACCURACY]: 0.969\n",
      "[EPOCH]: 26, [VAL LOSS]: 0.672532, [VAL ACCURACY]: 0.678 \n",
      "\n",
      "[EPOCH]: 27, [TRAIN LOSS]: 0.264913, [TRAIN ACCURACY]: 0.976\n",
      "[EPOCH]: 27, [VAL LOSS]: 0.674225, [VAL ACCURACY]: 0.678 \n",
      "\n",
      "[EPOCH]: 28, [TRAIN LOSS]: 0.206190, [TRAIN ACCURACY]: 0.981\n",
      "[EPOCH]: 28, [VAL LOSS]: 0.612498, [VAL ACCURACY]: 0.682 \n",
      "\n",
      "[EPOCH]: 29, [TRAIN LOSS]: 0.241037, [TRAIN ACCURACY]: 0.985\n",
      "[EPOCH]: 29, [VAL LOSS]: 0.534230, [VAL ACCURACY]: 0.681 \n",
      "\n",
      "[EPOCH]: 30, [TRAIN LOSS]: 0.148060, [TRAIN ACCURACY]: 0.988\n",
      "[EPOCH]: 30, [VAL LOSS]: 0.675342, [VAL ACCURACY]: 0.682 \n",
      "\n",
      "[EPOCH]: 31, [TRAIN LOSS]: 0.175463, [TRAIN ACCURACY]: 0.990\n",
      "[EPOCH]: 31, [VAL LOSS]: 0.701189, [VAL ACCURACY]: 0.685 \n",
      "\n",
      "[EPOCH]: 32, [TRAIN LOSS]: 0.117011, [TRAIN ACCURACY]: 0.993\n",
      "[EPOCH]: 32, [VAL LOSS]: 0.531663, [VAL ACCURACY]: 0.681 \n",
      "\n",
      "[EPOCH]: 33, [TRAIN LOSS]: 0.148931, [TRAIN ACCURACY]: 0.995\n",
      "[EPOCH]: 33, [VAL LOSS]: 0.573632, [VAL ACCURACY]: 0.686 \n",
      "\n",
      "[EPOCH]: 34, [TRAIN LOSS]: 0.221678, [TRAIN ACCURACY]: 0.996\n",
      "[EPOCH]: 34, [VAL LOSS]: 0.584273, [VAL ACCURACY]: 0.684 \n",
      "\n",
      "[EPOCH]: 35, [TRAIN LOSS]: 0.106649, [TRAIN ACCURACY]: 0.997\n",
      "[EPOCH]: 35, [VAL LOSS]: 0.687053, [VAL ACCURACY]: 0.686 \n",
      "\n",
      "[EPOCH]: 36, [TRAIN LOSS]: 0.146370, [TRAIN ACCURACY]: 0.998\n",
      "[EPOCH]: 36, [VAL LOSS]: 0.713981, [VAL ACCURACY]: 0.677 \n",
      "\n",
      "[EPOCH]: 37, [TRAIN LOSS]: 0.135293, [TRAIN ACCURACY]: 0.998\n",
      "[EPOCH]: 37, [VAL LOSS]: 0.658055, [VAL ACCURACY]: 0.686 \n",
      "\n",
      "[EPOCH]: 38, [TRAIN LOSS]: 0.077887, [TRAIN ACCURACY]: 0.998\n",
      "[EPOCH]: 38, [VAL LOSS]: 0.648419, [VAL ACCURACY]: 0.690 \n",
      "\n",
      "[EPOCH]: 39, [TRAIN LOSS]: 0.096899, [TRAIN ACCURACY]: 0.999\n",
      "[EPOCH]: 39, [VAL LOSS]: 0.671228, [VAL ACCURACY]: 0.686 \n",
      "\n",
      "[EPOCH]: 40, [TRAIN LOSS]: 0.066269, [TRAIN ACCURACY]: 0.999\n",
      "[EPOCH]: 40, [VAL LOSS]: 0.655085, [VAL ACCURACY]: 0.693 \n",
      "\n",
      "[EPOCH]: 41, [TRAIN LOSS]: 0.060721, [TRAIN ACCURACY]: 0.999\n",
      "[EPOCH]: 41, [VAL LOSS]: 0.661634, [VAL ACCURACY]: 0.690 \n",
      "\n",
      "[EPOCH]: 42, [TRAIN LOSS]: 0.133785, [TRAIN ACCURACY]: 1.000\n",
      "[EPOCH]: 42, [VAL LOSS]: 0.630417, [VAL ACCURACY]: 0.685 \n",
      "\n",
      "[EPOCH]: 43, [TRAIN LOSS]: 0.088376, [TRAIN ACCURACY]: 1.000\n",
      "[EPOCH]: 43, [VAL LOSS]: 0.634731, [VAL ACCURACY]: 0.689 \n",
      "\n",
      "[EPOCH]: 44, [TRAIN LOSS]: 0.075218, [TRAIN ACCURACY]: 1.000\n",
      "[EPOCH]: 44, [VAL LOSS]: 0.591173, [VAL ACCURACY]: 0.689 \n",
      "\n",
      "[EPOCH]: 45, [TRAIN LOSS]: 0.069613, [TRAIN ACCURACY]: 1.000\n",
      "[EPOCH]: 45, [VAL LOSS]: 0.679375, [VAL ACCURACY]: 0.689 \n",
      "\n"
     ]
    }
   ],
   "source": [
    "# TODO : Initialize the model and cast to correct device\n",
    "model_residual_convnet = ResidualConvnet(3, 10)\n",
    "model_residual_convnet.to(device)\n",
    "# TODO : Initialize the criterion \n",
    "criterion_residual_convnet = nn.CrossEntropyLoss()\n",
    "# TODO : Initialize the optimizer \n",
    "optimizer_residual_convnet = torch.optim.SGD(model_residual_convnet.parameters(), lr=1e-3)\n",
    "# TODO : Run the training loop using this model\n",
    "train_loss_residual_convnet, train_accuracy_residual_convnet, val_loss_residual_convnet, val_accuracy_residual_convnet = train_loop(model_residual_convnet, criterion_residual_convnet, optimizer_residual_convnet, train_loader, val_loader)"
   ]
  },
  {
   "cell_type": "markdown",
   "metadata": {
    "id": "NRrWJ63c4C0f"
   },
   "source": [
    "### Q 2.8 Plot the training curves with and without the residual connection. Comment on the difference. "
   ]
  },
  {
   "cell_type": "code",
   "execution_count": null,
   "metadata": {
    "id": "KeQkIber6pfO"
   },
   "outputs": [],
   "source": [
    "my_plot(train_loss_residual_convnet, train_accuracy_residual_convnet, val_loss_residual_convnet, val_accuracy_residual_convnet, len(train_loss_residual_convnet))"
   ]
  },
  {
   "cell_type": "markdown",
   "metadata": {
    "id": "1QXPnxcrx-VU"
   },
   "source": [
    "### Q2.9 Reducing overfiting \n",
    "\n"
   ]
  },
  {
   "cell_type": "markdown",
   "metadata": {
    "id": "HISbvoBh8JTJ"
   },
   "source": [
    "In the previous questions, you might have observed that there is a large difference between the training and validation losses. This is a sign that the model is overfitting. One way to combat this is by adding random transformations to the input data to make your model more robust and prevent it from memorizing the input data. \n",
    "\n",
    "Torchvision provides several transforms that you can readily apply to your data. Experiment with adding a few transforms and report your results in terms of learning curves to see if the gap between the training and validation loss reduces and try to achieve better perfomance on the validation set. "
   ]
  },
  {
   "cell_type": "code",
   "execution_count": null,
   "metadata": {
    "id": "0cZRQd-VK7ev"
   },
   "outputs": [],
   "source": [
    "test_transform = transforms.Compose([\n",
    "                                     transforms.ToTensor(),\n",
    "                                     transforms.Normalize(\n",
    "                                         [0.4373, 0.4434, 0.4725],\n",
    "                                         [0.1201, 0.1231, 0.1052])\n",
    "                                     ])\n",
    "\n",
    "train_transform = transforms.Compose([\n",
    "                                      # TODO: Add more transforms here \n",
    "                                      transforms.ToTensor(),\n",
    "                                      transforms.Normalize(\n",
    "                                          [0.4373, 0.4434, 0.4725],\n",
    "                                          [0.1201, 0.1231, 0.1052])\n",
    "                                      ])\n"
   ]
  },
  {
   "cell_type": "code",
   "execution_count": null,
   "metadata": {
    "id": "brZrUl7mK7ez"
   },
   "outputs": [],
   "source": [
    "train_dataset_w_transform  = MapDataset(train_dataset, train_transform)\n",
    "val_dataset_w_transform = MapDataset(val_dataset, test_transform)\n",
    "test_dataset_w_transform = MapDataset(test_dataset, test_transform)"
   ]
  },
  {
   "cell_type": "code",
   "execution_count": null,
   "metadata": {
    "id": "kZp6DqwfK7e1"
   },
   "outputs": [],
   "source": [
    "bs = 128\n",
    "train_loader = DataLoader(train_dataset_w_transform, batch_size=bs, shuffle=True, drop_last=False)\n",
    "val_loader = DataLoader(val_dataset_w_transform, batch_size=bs, shuffle=False, drop_last=False)\n",
    "test_loader = DataLoader(test_dataset, batch_size=bs, shuffle=False, drop_last=False)"
   ]
  },
  {
   "cell_type": "markdown",
   "metadata": {
    "id": "xR_9tihT5Vmu"
   },
   "source": [
    "#### Use the residual network that you built above and use data augmentation to reduce the overfitting "
   ]
  },
  {
   "cell_type": "code",
   "execution_count": null,
   "metadata": {
    "id": "WxMLVdrUwh--"
   },
   "outputs": [],
   "source": [
    "# TODO : Initialize the model and cast to correct device\n",
    "model_residual_convnet2 = ResidualConvnet(3, 10)\n",
    "model_residual_convnet2.to(device)\n",
    "# TODO : Initialize the criterion \n",
    "criterion_residual_convnet2 = nn.CrossEntropyLoss()\n",
    "# TODO : Initialize the optimizer \n",
    "optimizer_residual_convnet2 = optim.SGD(model_residual_convnet2.parameters(), lr=1e-3)\n",
    "# TODO : Run the training loop using this model\n",
    "train_loss_residual_convnet2, train_accuracy_residual_convnet2, val_loss_residual_convnet2, val_accuracy_residual_convnet2 = train_loop(model_residual_convnet2, criterion_residual_convnet2, optimizer_residual_convnet2, train_loader, val_loader)\n"
   ]
  },
  {
   "cell_type": "markdown",
   "metadata": {
    "id": "O2rhPXb4nRFA"
   },
   "source": [
    "### Q 2.10  Effect of learning rate decay "
   ]
  },
  {
   "cell_type": "markdown",
   "metadata": {
    "id": "VDqvgBeptLpD"
   },
   "source": [
    "#### Here you need to change the training loop to have one additional operation - add the scheduler step at the end of each epoch. Experiment with different learning rate schedulers provided by pytorch. Report results using atleast StepLR. "
   ]
  },
  {
   "cell_type": "code",
   "execution_count": null,
   "metadata": {
    "id": "DoDm84bvtbYK"
   },
   "outputs": [],
   "source": [
    "from torch.optim.lr_scheduler import StepLR"
   ]
  },
  {
   "cell_type": "code",
   "execution_count": null,
   "metadata": {
    "id": "nbGSCk4N57qX"
   },
   "outputs": [],
   "source": [
    "def train_loop2(model, criterion, optimizer, scheduler,  train_loader, val_loader):\n",
    "    \"\"\"\n",
    "    Generic training loop\n",
    "\n",
    "    Parameters\n",
    "    ----------\n",
    "    model : Object instance of your model class \n",
    "    criterion : Loss function \n",
    "    optimizer : Instance of optimizer class of your choice \n",
    "    scheduler : Instance of scheduler class of your choice \n",
    "    train_loader : Training data loader \n",
    "    val_loader : Validation data loader\n",
    "\n",
    "    Returns\n",
    "    -------\n",
    "    train_losses : List with train loss on dataset per epoch\n",
    "    train_accuracies : List with train accuracy on dataset per epoch\n",
    "    val_losses : List with validation loss on dataset per epoch\n",
    "    val_accuracies : List with validation accuracy on dataset per epoch\n",
    "\n",
    "    \"\"\"\n",
    "    best_val = 0.0\n",
    "    train_losses = []\n",
    "    val_losses = []\n",
    "    train_accuracies = []\n",
    "    val_accuracies = []\n",
    "    max_patience = 5\n",
    "    patience_counter = 0\n",
    "\n",
    "    # Training\n",
    "    for t in tqdm(range(50)):\n",
    "        # TODO : Set the model to train mode \n",
    "        model.train()  \n",
    "        # TODO: Loop over the training set \n",
    "        n_correct, n_total = 0, 0\n",
    "        iterator = enumerate(train_loader)\n",
    "    for i,(inp,target) in iterator:\n",
    "        # TODO: Put the inputs and targets on the write device\n",
    "        inp = inp.to(device)\n",
    "        target = target.to(device)\n",
    "        # TODO: Feed forward to get the logits\n",
    "        logits = model(inp)\n",
    "        # TODO: Compute the loss and accuracy\n",
    "        loss = criterion(logits.view(-1, logits.size(-1)), target.view(-1)) # one of the important steps\n",
    "        # Computing training accuracy below.\n",
    "        n_correct += (torch.max(logits, 1)[1].view(\n",
    "          target.size()) == target).sum().item()\n",
    "        n_total += len(target)\n",
    "        train_acc = n_correct / n_total\n",
    "        # print('Epoch {}, train Loss: {:.3f}'.format(t, loss.item()), \"Training Accuracy: %d %%\" % (train_acc))\n",
    "        # TODO: zero the gradients before running\n",
    "        # the backward pass.\n",
    "        optimizer.zero_grad()\n",
    "        # TODO: Backward pass to compute the gradient\n",
    "        # of loss w.r.t our learnable params. \n",
    "        loss.backward()\n",
    "        # TODO: Update params\n",
    "        optimizer.step()\n",
    "        # TODO: Keep track of accuracy and loss\n",
    "    train_losses.append(loss)\n",
    "    train_accuracies.append(train_acc)\n",
    "      \n",
    "    \n",
    "\n",
    "        # TODO: Switch the model to eval mode\n",
    "        model.eval()\n",
    "        with torch.no_grad():\n",
    "            # TODO: Loop over the validation set \n",
    "            val_n_correct, val_n_total = 0, 0\n",
    "            val_iterator = enumerate(val_loader)\n",
    "            for i,(val_inp,val_target) in val_iterator:\n",
    "            # TODO: Put the inputs and targets on the write device\n",
    "            val_inp = val_inp.to(device)\n",
    "            val_target = val_target.to(device)\n",
    "            # TODO: Feed forward to get the logits\n",
    "            val_logits = model(val_inp)\n",
    "            # TODO: Compute the loss and accuracy\n",
    "            val_loss = criterion(val_logits.view(-1, val_logits.size(-1)), val_target.view(-1))\n",
    "            val_n_correct += (torch.max(val_logits, 1)[1].view(\n",
    "            val_target.size()) == val_target).sum().item()\n",
    "            val_n_total += len(val_inp)\n",
    "            val_accuracy = val_n_correct / val_n_total\n",
    "            # TODO: Keep track of accuracy and loss\n",
    "            val_losses.append(val_loss)\n",
    "            val_accuracies.append(val_accuracy)\n",
    "            \n",
    "\n",
    "        if val_accuracies[-1] > best_val:\n",
    "            best_val = val_accuracies[-1]\n",
    "            patience_counter = 0\n",
    "            # TODO: Save best model, optimizer, epoch_number\n",
    "            torch.save(model.state_dict(), '/content/drive/My Drive/colabs/assignment_2/best-params.pt')\n",
    "\n",
    "            # torch.save({'best_model': model.state_dict(),'optimizer': optimizer.state_dict()},\n",
    "            # '/content/drive/My Drive/colabs/assignment_2/best-params.pt'.format(args['results_dir'], args['model'], args['dataset']))\n",
    "        else:\n",
    "            patience_counter += 1    \n",
    "            if patience_counter > max_patience:\n",
    "                  break\n",
    "\n",
    "      \n",
    "        print(\"[EPOCH]: %i, [TRAIN LOSS]: %.6f, [TRAIN ACCURACY]: %.3f\" % (t, train_losses[-1], train_accuracies[-1]))\n",
    "        print(\"[EPOCH]: %i, [VAL LOSS]: %.6f, [VAL ACCURACY]: %.3f \\n\" % (t, val_losses[-1] ,val_accuracies[-1]))\n",
    "\n",
    "      # TODO : scheduler step\n",
    "      scheduler.step\n",
    "    return train_losses, train_accuracies, val_losses, val_accuracies"
   ]
  },
  {
   "cell_type": "code",
   "execution_count": null,
   "metadata": {
    "id": "bK1P1aU0sbJn"
   },
   "outputs": [],
   "source": [
    "# TODO : Initialize the model and cast to correct device\n",
    "model_residual_convnet3 = ResidualConvnet(3, 10)\n",
    "model_residual_convnet3.to(device)\n",
    "# TODO : Initialize the criterion \n",
    "criterion_residual_convnet3 = nn.CrossEntropyLoss()\n",
    "# TODO : Initialize the optimizer \n",
    "optimizer_residual_convnet3 = optim.SGD(model_residual_convnet3.parameters(), lr=1e-3)\n",
    "# TODO : Initialize the \n",
    "scheduler = StepLR(optimizer_residual_convnet3, step_size=10, gamma=0.1)\n",
    "# TODO : Run the training loop using this model\n",
    "train_loss_residual_convnet3, train_accuracy_residual_convnet3, val_loss_residual_convnet3, val_accuracy_residual_convnet3 = train_loop2(model_residual_convnet3, criterion_residual_convnet3, optimizer_residual_convnet3, scheduler, train_loader, val_loader)"
   ]
  },
  {
   "cell_type": "markdown",
   "metadata": {
    "id": "cG8bhd5V97iJ"
   },
   "source": [
    "### Q2.11 Hyper parameter tuning \n"
   ]
  },
  {
   "cell_type": "markdown",
   "metadata": {
    "id": "G05PHYHJ-DF2"
   },
   "source": [
    "#### Experiment with a range of learning rates and optimizers, as well as the parameter in the learning rate scheduler for StepLR. Report the following plots: \n",
    "\n",
    "1. Learning curves (training and validation loss for 5 different learning rate with SGD optimizer)\n",
    "2. Learning curves (training and validation loss for 5 different learning rate with Adam optimizer)\n",
    "3. Learning curves (training and validation loss for 5 different gamma parameter for the StepLR)\n",
    "\n",
    "\n",
    "\n"
   ]
  },
  {
   "cell_type": "markdown",
   "metadata": {
    "id": "JiLexWP36qp6"
   },
   "source": [
    "### Q2.12 Load the model that gave you best validation accuracy and report results on the test set. "
   ]
  },
  {
   "cell_type": "code",
   "execution_count": null,
   "metadata": {
    "id": "Hz-m4xZU_nV8"
   },
   "outputs": [],
   "source": [
    "model = ResidualConvnet(3, 10)\n",
    "model.load_state_dict(torch.load('best-params.pt'))\n",
    "\n",
    "model.to(device)\n",
    "\n",
    "criterion_test = nn.CrossEntropyLoss()\n",
    "model.eval()\n",
    "\n",
    "test_loss, test_correct, test_total = 0.0, 0.0, 0.0\n",
    "iterator = enumerate(test_loader)\n",
    "\n",
    "\n",
    "for test_i,(test_inp,test_target) in iterator:\n",
    "        # TODO: Put the inputs and targets on the write device\n",
    "        torch.cuda.empty_cache()\n",
    "        test_inp = test_inp.to(device)\n",
    "        test_target = test_target.to(device)\n",
    "        # TODO: Feed forward to get the logits\n",
    "        predic_logits = model(test_inp)\n",
    "        # TODO: Compute the loss and accuracy\n",
    "        loss = criterion(predic_logits.view(-1, predic_logits.size(-1)), test_target.view(-1)) # one of the important steps\n",
    "        # Computing training accuracy below.\n",
    "        n_correct += (torch.max(predic_logits, 1)[1].view(\n",
    "          test_target.size()) == test_target).sum().item()\n",
    "        n_total += len(test_inp)\n",
    "        test_acc = n_correct / n_total\n",
    "\n",
    "print(\"[TEST LOSS]: %.6f, [TEST ACCURACY]: %.6f\" % (test_loss, test_accuracy))"
   ]
  }
 ],
 "metadata": {
  "accelerator": "GPU",
  "colab": {
   "collapsed_sections": [],
   "name": "Sunidhi_Ass-2_Q2.ipynb",
   "provenance": []
  },
  "kernelspec": {
   "display_name": "Python 3",
   "language": "python",
   "name": "python3"
  },
  "language_info": {
   "codemirror_mode": {
    "name": "ipython",
    "version": 3
   },
   "file_extension": ".py",
   "mimetype": "text/x-python",
   "name": "python",
   "nbconvert_exporter": "python",
   "pygments_lexer": "ipython3",
   "version": "3.7.4"
  },
  "widgets": {
   "application/vnd.jupyter.widget-state+json": {
    "00e0475d7a2340bc963b1f0483ad6297": {
     "model_module": "@jupyter-widgets/controls",
     "model_name": "DescriptionStyleModel",
     "state": {
      "_model_module": "@jupyter-widgets/controls",
      "_model_module_version": "1.5.0",
      "_model_name": "DescriptionStyleModel",
      "_view_count": null,
      "_view_module": "@jupyter-widgets/base",
      "_view_module_version": "1.2.0",
      "_view_name": "StyleView",
      "description_width": ""
     }
    },
    "0a48627c10fc4033a890eceff808dad3": {
     "model_module": "@jupyter-widgets/controls",
     "model_name": "ProgressStyleModel",
     "state": {
      "_model_module": "@jupyter-widgets/controls",
      "_model_module_version": "1.5.0",
      "_model_name": "ProgressStyleModel",
      "_view_count": null,
      "_view_module": "@jupyter-widgets/base",
      "_view_module_version": "1.2.0",
      "_view_name": "StyleView",
      "bar_color": null,
      "description_width": "initial"
     }
    },
    "0a9d38a9a4bc4e489ffe2222211b5783": {
     "model_module": "@jupyter-widgets/controls",
     "model_name": "DescriptionStyleModel",
     "state": {
      "_model_module": "@jupyter-widgets/controls",
      "_model_module_version": "1.5.0",
      "_model_name": "DescriptionStyleModel",
      "_view_count": null,
      "_view_module": "@jupyter-widgets/base",
      "_view_module_version": "1.2.0",
      "_view_name": "StyleView",
      "description_width": ""
     }
    },
    "0e480b70524f4b0bbb903d4bb92eb316": {
     "model_module": "@jupyter-widgets/base",
     "model_name": "LayoutModel",
     "state": {
      "_model_module": "@jupyter-widgets/base",
      "_model_module_version": "1.2.0",
      "_model_name": "LayoutModel",
      "_view_count": null,
      "_view_module": "@jupyter-widgets/base",
      "_view_module_version": "1.2.0",
      "_view_name": "LayoutView",
      "align_content": null,
      "align_items": null,
      "align_self": null,
      "border": null,
      "bottom": null,
      "display": null,
      "flex": null,
      "flex_flow": null,
      "grid_area": null,
      "grid_auto_columns": null,
      "grid_auto_flow": null,
      "grid_auto_rows": null,
      "grid_column": null,
      "grid_gap": null,
      "grid_row": null,
      "grid_template_areas": null,
      "grid_template_columns": null,
      "grid_template_rows": null,
      "height": null,
      "justify_content": null,
      "justify_items": null,
      "left": null,
      "margin": null,
      "max_height": null,
      "max_width": null,
      "min_height": null,
      "min_width": null,
      "object_fit": null,
      "object_position": null,
      "order": null,
      "overflow": null,
      "overflow_x": null,
      "overflow_y": null,
      "padding": null,
      "right": null,
      "top": null,
      "visibility": null,
      "width": null
     }
    },
    "1c1ec125a41243d1bbaa5d3ae8efe507": {
     "model_module": "@jupyter-widgets/controls",
     "model_name": "HBoxModel",
     "state": {
      "_dom_classes": [],
      "_model_module": "@jupyter-widgets/controls",
      "_model_module_version": "1.5.0",
      "_model_name": "HBoxModel",
      "_view_count": null,
      "_view_module": "@jupyter-widgets/controls",
      "_view_module_version": "1.5.0",
      "_view_name": "HBoxView",
      "box_style": "",
      "children": [
       "IPY_MODEL_6e0550c17a6c48b7bf13b58631a97f7b",
       "IPY_MODEL_8fa5674250cd4a0ca4a9ac8144b2f71d"
      ],
      "layout": "IPY_MODEL_a9062b4f98cc4d258d63f565dbde79be"
     }
    },
    "2452acba45434b7c9962dfcfd5b7f2c3": {
     "model_module": "@jupyter-widgets/controls",
     "model_name": "HBoxModel",
     "state": {
      "_dom_classes": [],
      "_model_module": "@jupyter-widgets/controls",
      "_model_module_version": "1.5.0",
      "_model_name": "HBoxModel",
      "_view_count": null,
      "_view_module": "@jupyter-widgets/controls",
      "_view_module_version": "1.5.0",
      "_view_name": "HBoxView",
      "box_style": "",
      "children": [
       "IPY_MODEL_e10ddb83f96c44148143c1dcf43632dc",
       "IPY_MODEL_c845e6b3a8ed4aecab9299165854573e"
      ],
      "layout": "IPY_MODEL_95c17e14db1d42c1b9d146a673cd6631"
     }
    },
    "24a57e6203794641b08ef6a173d22769": {
     "model_module": "@jupyter-widgets/controls",
     "model_name": "FloatProgressModel",
     "state": {
      "_dom_classes": [],
      "_model_module": "@jupyter-widgets/controls",
      "_model_module_version": "1.5.0",
      "_model_name": "FloatProgressModel",
      "_view_count": null,
      "_view_module": "@jupyter-widgets/controls",
      "_view_module_version": "1.5.0",
      "_view_name": "ProgressView",
      "bar_style": "info",
      "description": "",
      "description_tooltip": null,
      "layout": "IPY_MODEL_0e480b70524f4b0bbb903d4bb92eb316",
      "max": 1,
      "min": 0,
      "orientation": "horizontal",
      "style": "IPY_MODEL_f200ed4600424c21aff169e0b6477bfd",
      "value": 1
     }
    },
    "26512334d75c45aaae6393aad6cc69ab": {
     "model_module": "@jupyter-widgets/base",
     "model_name": "LayoutModel",
     "state": {
      "_model_module": "@jupyter-widgets/base",
      "_model_module_version": "1.2.0",
      "_model_name": "LayoutModel",
      "_view_count": null,
      "_view_module": "@jupyter-widgets/base",
      "_view_module_version": "1.2.0",
      "_view_name": "LayoutView",
      "align_content": null,
      "align_items": null,
      "align_self": null,
      "border": null,
      "bottom": null,
      "display": null,
      "flex": null,
      "flex_flow": null,
      "grid_area": null,
      "grid_auto_columns": null,
      "grid_auto_flow": null,
      "grid_auto_rows": null,
      "grid_column": null,
      "grid_gap": null,
      "grid_row": null,
      "grid_template_areas": null,
      "grid_template_columns": null,
      "grid_template_rows": null,
      "height": null,
      "justify_content": null,
      "justify_items": null,
      "left": null,
      "margin": null,
      "max_height": null,
      "max_width": null,
      "min_height": null,
      "min_width": null,
      "object_fit": null,
      "object_position": null,
      "order": null,
      "overflow": null,
      "overflow_x": null,
      "overflow_y": null,
      "padding": null,
      "right": null,
      "top": null,
      "visibility": null,
      "width": null
     }
    },
    "29c7a458c6eb4b4d8723192f91eea493": {
     "model_module": "@jupyter-widgets/base",
     "model_name": "LayoutModel",
     "state": {
      "_model_module": "@jupyter-widgets/base",
      "_model_module_version": "1.2.0",
      "_model_name": "LayoutModel",
      "_view_count": null,
      "_view_module": "@jupyter-widgets/base",
      "_view_module_version": "1.2.0",
      "_view_name": "LayoutView",
      "align_content": null,
      "align_items": null,
      "align_self": null,
      "border": null,
      "bottom": null,
      "display": null,
      "flex": null,
      "flex_flow": null,
      "grid_area": null,
      "grid_auto_columns": null,
      "grid_auto_flow": null,
      "grid_auto_rows": null,
      "grid_column": null,
      "grid_gap": null,
      "grid_row": null,
      "grid_template_areas": null,
      "grid_template_columns": null,
      "grid_template_rows": null,
      "height": null,
      "justify_content": null,
      "justify_items": null,
      "left": null,
      "margin": null,
      "max_height": null,
      "max_width": null,
      "min_height": null,
      "min_width": null,
      "object_fit": null,
      "object_position": null,
      "order": null,
      "overflow": null,
      "overflow_x": null,
      "overflow_y": null,
      "padding": null,
      "right": null,
      "top": null,
      "visibility": null,
      "width": null
     }
    },
    "30a086211e7240448636751b69343deb": {
     "model_module": "@jupyter-widgets/base",
     "model_name": "LayoutModel",
     "state": {
      "_model_module": "@jupyter-widgets/base",
      "_model_module_version": "1.2.0",
      "_model_name": "LayoutModel",
      "_view_count": null,
      "_view_module": "@jupyter-widgets/base",
      "_view_module_version": "1.2.0",
      "_view_name": "LayoutView",
      "align_content": null,
      "align_items": null,
      "align_self": null,
      "border": null,
      "bottom": null,
      "display": null,
      "flex": null,
      "flex_flow": null,
      "grid_area": null,
      "grid_auto_columns": null,
      "grid_auto_flow": null,
      "grid_auto_rows": null,
      "grid_column": null,
      "grid_gap": null,
      "grid_row": null,
      "grid_template_areas": null,
      "grid_template_columns": null,
      "grid_template_rows": null,
      "height": null,
      "justify_content": null,
      "justify_items": null,
      "left": null,
      "margin": null,
      "max_height": null,
      "max_width": null,
      "min_height": null,
      "min_width": null,
      "object_fit": null,
      "object_position": null,
      "order": null,
      "overflow": null,
      "overflow_x": null,
      "overflow_y": null,
      "padding": null,
      "right": null,
      "top": null,
      "visibility": null,
      "width": null
     }
    },
    "3324576ae9e64dd2bb347291ff4d398d": {
     "model_module": "@jupyter-widgets/base",
     "model_name": "LayoutModel",
     "state": {
      "_model_module": "@jupyter-widgets/base",
      "_model_module_version": "1.2.0",
      "_model_name": "LayoutModel",
      "_view_count": null,
      "_view_module": "@jupyter-widgets/base",
      "_view_module_version": "1.2.0",
      "_view_name": "LayoutView",
      "align_content": null,
      "align_items": null,
      "align_self": null,
      "border": null,
      "bottom": null,
      "display": null,
      "flex": null,
      "flex_flow": null,
      "grid_area": null,
      "grid_auto_columns": null,
      "grid_auto_flow": null,
      "grid_auto_rows": null,
      "grid_column": null,
      "grid_gap": null,
      "grid_row": null,
      "grid_template_areas": null,
      "grid_template_columns": null,
      "grid_template_rows": null,
      "height": null,
      "justify_content": null,
      "justify_items": null,
      "left": null,
      "margin": null,
      "max_height": null,
      "max_width": null,
      "min_height": null,
      "min_width": null,
      "object_fit": null,
      "object_position": null,
      "order": null,
      "overflow": null,
      "overflow_x": null,
      "overflow_y": null,
      "padding": null,
      "right": null,
      "top": null,
      "visibility": null,
      "width": null
     }
    },
    "3892a912ff7f408cbd868dfb942f1f17": {
     "model_module": "@jupyter-widgets/controls",
     "model_name": "HTMLModel",
     "state": {
      "_dom_classes": [],
      "_model_module": "@jupyter-widgets/controls",
      "_model_module_version": "1.5.0",
      "_model_name": "HTMLModel",
      "_view_count": null,
      "_view_module": "@jupyter-widgets/controls",
      "_view_module_version": "1.5.0",
      "_view_name": "HTMLView",
      "description": "",
      "description_tooltip": null,
      "layout": "IPY_MODEL_29c7a458c6eb4b4d8723192f91eea493",
      "placeholder": "​",
      "style": "IPY_MODEL_ff01351eaf694b92ac1b5b1244a02ec9",
      "value": " 6/50 [02:13&lt;13:57, 19.04s/it]"
     }
    },
    "3ea434791fbb4cbfb8b8e7d4606c4489": {
     "model_module": "@jupyter-widgets/base",
     "model_name": "LayoutModel",
     "state": {
      "_model_module": "@jupyter-widgets/base",
      "_model_module_version": "1.2.0",
      "_model_name": "LayoutModel",
      "_view_count": null,
      "_view_module": "@jupyter-widgets/base",
      "_view_module_version": "1.2.0",
      "_view_name": "LayoutView",
      "align_content": null,
      "align_items": null,
      "align_self": null,
      "border": null,
      "bottom": null,
      "display": null,
      "flex": null,
      "flex_flow": null,
      "grid_area": null,
      "grid_auto_columns": null,
      "grid_auto_flow": null,
      "grid_auto_rows": null,
      "grid_column": null,
      "grid_gap": null,
      "grid_row": null,
      "grid_template_areas": null,
      "grid_template_columns": null,
      "grid_template_rows": null,
      "height": null,
      "justify_content": null,
      "justify_items": null,
      "left": null,
      "margin": null,
      "max_height": null,
      "max_width": null,
      "min_height": null,
      "min_width": null,
      "object_fit": null,
      "object_position": null,
      "order": null,
      "overflow": null,
      "overflow_x": null,
      "overflow_y": null,
      "padding": null,
      "right": null,
      "top": null,
      "visibility": null,
      "width": null
     }
    },
    "40ee12cb8f9a49a3b18dd9f43d507f93": {
     "model_module": "@jupyter-widgets/base",
     "model_name": "LayoutModel",
     "state": {
      "_model_module": "@jupyter-widgets/base",
      "_model_module_version": "1.2.0",
      "_model_name": "LayoutModel",
      "_view_count": null,
      "_view_module": "@jupyter-widgets/base",
      "_view_module_version": "1.2.0",
      "_view_name": "LayoutView",
      "align_content": null,
      "align_items": null,
      "align_self": null,
      "border": null,
      "bottom": null,
      "display": null,
      "flex": null,
      "flex_flow": null,
      "grid_area": null,
      "grid_auto_columns": null,
      "grid_auto_flow": null,
      "grid_auto_rows": null,
      "grid_column": null,
      "grid_gap": null,
      "grid_row": null,
      "grid_template_areas": null,
      "grid_template_columns": null,
      "grid_template_rows": null,
      "height": null,
      "justify_content": null,
      "justify_items": null,
      "left": null,
      "margin": null,
      "max_height": null,
      "max_width": null,
      "min_height": null,
      "min_width": null,
      "object_fit": null,
      "object_position": null,
      "order": null,
      "overflow": null,
      "overflow_x": null,
      "overflow_y": null,
      "padding": null,
      "right": null,
      "top": null,
      "visibility": null,
      "width": null
     }
    },
    "493e7aaae59c44fd8450b25ddcab99d8": {
     "model_module": "@jupyter-widgets/controls",
     "model_name": "DescriptionStyleModel",
     "state": {
      "_model_module": "@jupyter-widgets/controls",
      "_model_module_version": "1.5.0",
      "_model_name": "DescriptionStyleModel",
      "_view_count": null,
      "_view_module": "@jupyter-widgets/base",
      "_view_module_version": "1.2.0",
      "_view_name": "StyleView",
      "description_width": ""
     }
    },
    "49a25145b4e542c5bc81a787f2f242f2": {
     "model_module": "@jupyter-widgets/base",
     "model_name": "LayoutModel",
     "state": {
      "_model_module": "@jupyter-widgets/base",
      "_model_module_version": "1.2.0",
      "_model_name": "LayoutModel",
      "_view_count": null,
      "_view_module": "@jupyter-widgets/base",
      "_view_module_version": "1.2.0",
      "_view_name": "LayoutView",
      "align_content": null,
      "align_items": null,
      "align_self": null,
      "border": null,
      "bottom": null,
      "display": null,
      "flex": null,
      "flex_flow": null,
      "grid_area": null,
      "grid_auto_columns": null,
      "grid_auto_flow": null,
      "grid_auto_rows": null,
      "grid_column": null,
      "grid_gap": null,
      "grid_row": null,
      "grid_template_areas": null,
      "grid_template_columns": null,
      "grid_template_rows": null,
      "height": null,
      "justify_content": null,
      "justify_items": null,
      "left": null,
      "margin": null,
      "max_height": null,
      "max_width": null,
      "min_height": null,
      "min_width": null,
      "object_fit": null,
      "object_position": null,
      "order": null,
      "overflow": null,
      "overflow_x": null,
      "overflow_y": null,
      "padding": null,
      "right": null,
      "top": null,
      "visibility": null,
      "width": null
     }
    },
    "4abb40cfda4f4df4a958b11aeeaec4b7": {
     "model_module": "@jupyter-widgets/controls",
     "model_name": "FloatProgressModel",
     "state": {
      "_dom_classes": [],
      "_model_module": "@jupyter-widgets/controls",
      "_model_module_version": "1.5.0",
      "_model_name": "FloatProgressModel",
      "_view_count": null,
      "_view_module": "@jupyter-widgets/controls",
      "_view_module_version": "1.5.0",
      "_view_name": "ProgressView",
      "bar_style": "danger",
      "description": " 12%",
      "description_tooltip": null,
      "layout": "IPY_MODEL_602059d864714f13ba2e0d3784e9e26c",
      "max": 50,
      "min": 0,
      "orientation": "horizontal",
      "style": "IPY_MODEL_da723ef2f74d4450b62aef8e156bc7e8",
      "value": 6
     }
    },
    "4b2e589a27854ff8a1b57f09c5328d49": {
     "model_module": "@jupyter-widgets/controls",
     "model_name": "ProgressStyleModel",
     "state": {
      "_model_module": "@jupyter-widgets/controls",
      "_model_module_version": "1.5.0",
      "_model_name": "ProgressStyleModel",
      "_view_count": null,
      "_view_module": "@jupyter-widgets/base",
      "_view_module_version": "1.2.0",
      "_view_name": "StyleView",
      "bar_color": null,
      "description_width": "initial"
     }
    },
    "4c7d7f9f376740e3938249a8c9e78ac6": {
     "model_module": "@jupyter-widgets/base",
     "model_name": "LayoutModel",
     "state": {
      "_model_module": "@jupyter-widgets/base",
      "_model_module_version": "1.2.0",
      "_model_name": "LayoutModel",
      "_view_count": null,
      "_view_module": "@jupyter-widgets/base",
      "_view_module_version": "1.2.0",
      "_view_name": "LayoutView",
      "align_content": null,
      "align_items": null,
      "align_self": null,
      "border": null,
      "bottom": null,
      "display": null,
      "flex": null,
      "flex_flow": null,
      "grid_area": null,
      "grid_auto_columns": null,
      "grid_auto_flow": null,
      "grid_auto_rows": null,
      "grid_column": null,
      "grid_gap": null,
      "grid_row": null,
      "grid_template_areas": null,
      "grid_template_columns": null,
      "grid_template_rows": null,
      "height": null,
      "justify_content": null,
      "justify_items": null,
      "left": null,
      "margin": null,
      "max_height": null,
      "max_width": null,
      "min_height": null,
      "min_width": null,
      "object_fit": null,
      "object_position": null,
      "order": null,
      "overflow": null,
      "overflow_x": null,
      "overflow_y": null,
      "padding": null,
      "right": null,
      "top": null,
      "visibility": null,
      "width": null
     }
    },
    "5d730b0adc424deab8a738cda36133c7": {
     "model_module": "@jupyter-widgets/controls",
     "model_name": "HBoxModel",
     "state": {
      "_dom_classes": [],
      "_model_module": "@jupyter-widgets/controls",
      "_model_module_version": "1.5.0",
      "_model_name": "HBoxModel",
      "_view_count": null,
      "_view_module": "@jupyter-widgets/controls",
      "_view_module_version": "1.5.0",
      "_view_name": "HBoxView",
      "box_style": "",
      "children": [
       "IPY_MODEL_f608e23b92354935b344de2e76ae9592",
       "IPY_MODEL_a185bf3d2d7c4ba0a383add2626c4d7a"
      ],
      "layout": "IPY_MODEL_f843ccaa8b1e4757ad35c50f0729b0cf"
     }
    },
    "5e21314a73be4815a40678fae4aa7f85": {
     "model_module": "@jupyter-widgets/controls",
     "model_name": "HBoxModel",
     "state": {
      "_dom_classes": [],
      "_model_module": "@jupyter-widgets/controls",
      "_model_module_version": "1.5.0",
      "_model_name": "HBoxModel",
      "_view_count": null,
      "_view_module": "@jupyter-widgets/controls",
      "_view_module_version": "1.5.0",
      "_view_name": "HBoxView",
      "box_style": "",
      "children": [
       "IPY_MODEL_4abb40cfda4f4df4a958b11aeeaec4b7",
       "IPY_MODEL_f5ecbb13c9f7419d9761aef2932e6cbc"
      ],
      "layout": "IPY_MODEL_75baaed5014e4ebab0df8cfcdc10491b"
     }
    },
    "602059d864714f13ba2e0d3784e9e26c": {
     "model_module": "@jupyter-widgets/base",
     "model_name": "LayoutModel",
     "state": {
      "_model_module": "@jupyter-widgets/base",
      "_model_module_version": "1.2.0",
      "_model_name": "LayoutModel",
      "_view_count": null,
      "_view_module": "@jupyter-widgets/base",
      "_view_module_version": "1.2.0",
      "_view_name": "LayoutView",
      "align_content": null,
      "align_items": null,
      "align_self": null,
      "border": null,
      "bottom": null,
      "display": null,
      "flex": null,
      "flex_flow": null,
      "grid_area": null,
      "grid_auto_columns": null,
      "grid_auto_flow": null,
      "grid_auto_rows": null,
      "grid_column": null,
      "grid_gap": null,
      "grid_row": null,
      "grid_template_areas": null,
      "grid_template_columns": null,
      "grid_template_rows": null,
      "height": null,
      "justify_content": null,
      "justify_items": null,
      "left": null,
      "margin": null,
      "max_height": null,
      "max_width": null,
      "min_height": null,
      "min_width": null,
      "object_fit": null,
      "object_position": null,
      "order": null,
      "overflow": null,
      "overflow_x": null,
      "overflow_y": null,
      "padding": null,
      "right": null,
      "top": null,
      "visibility": null,
      "width": null
     }
    },
    "6238796cc60645b6a951ec857f97264d": {
     "model_module": "@jupyter-widgets/base",
     "model_name": "LayoutModel",
     "state": {
      "_model_module": "@jupyter-widgets/base",
      "_model_module_version": "1.2.0",
      "_model_name": "LayoutModel",
      "_view_count": null,
      "_view_module": "@jupyter-widgets/base",
      "_view_module_version": "1.2.0",
      "_view_name": "LayoutView",
      "align_content": null,
      "align_items": null,
      "align_self": null,
      "border": null,
      "bottom": null,
      "display": null,
      "flex": null,
      "flex_flow": null,
      "grid_area": null,
      "grid_auto_columns": null,
      "grid_auto_flow": null,
      "grid_auto_rows": null,
      "grid_column": null,
      "grid_gap": null,
      "grid_row": null,
      "grid_template_areas": null,
      "grid_template_columns": null,
      "grid_template_rows": null,
      "height": null,
      "justify_content": null,
      "justify_items": null,
      "left": null,
      "margin": null,
      "max_height": null,
      "max_width": null,
      "min_height": null,
      "min_width": null,
      "object_fit": null,
      "object_position": null,
      "order": null,
      "overflow": null,
      "overflow_x": null,
      "overflow_y": null,
      "padding": null,
      "right": null,
      "top": null,
      "visibility": null,
      "width": null
     }
    },
    "6e0550c17a6c48b7bf13b58631a97f7b": {
     "model_module": "@jupyter-widgets/controls",
     "model_name": "FloatProgressModel",
     "state": {
      "_dom_classes": [],
      "_model_module": "@jupyter-widgets/controls",
      "_model_module_version": "1.5.0",
      "_model_name": "FloatProgressModel",
      "_view_count": null,
      "_view_module": "@jupyter-widgets/controls",
      "_view_module_version": "1.5.0",
      "_view_name": "ProgressView",
      "bar_style": "success",
      "description": "100%",
      "description_tooltip": null,
      "layout": "IPY_MODEL_be575f1532db48ab8f9158713aa0232b",
      "max": 50,
      "min": 0,
      "orientation": "horizontal",
      "style": "IPY_MODEL_0a48627c10fc4033a890eceff808dad3",
      "value": 50
     }
    },
    "748e5de50e1a4b3e8f1b6ac934eeded8": {
     "model_module": "@jupyter-widgets/controls",
     "model_name": "DescriptionStyleModel",
     "state": {
      "_model_module": "@jupyter-widgets/controls",
      "_model_module_version": "1.5.0",
      "_model_name": "DescriptionStyleModel",
      "_view_count": null,
      "_view_module": "@jupyter-widgets/base",
      "_view_module_version": "1.2.0",
      "_view_name": "StyleView",
      "description_width": ""
     }
    },
    "75baaed5014e4ebab0df8cfcdc10491b": {
     "model_module": "@jupyter-widgets/base",
     "model_name": "LayoutModel",
     "state": {
      "_model_module": "@jupyter-widgets/base",
      "_model_module_version": "1.2.0",
      "_model_name": "LayoutModel",
      "_view_count": null,
      "_view_module": "@jupyter-widgets/base",
      "_view_module_version": "1.2.0",
      "_view_name": "LayoutView",
      "align_content": null,
      "align_items": null,
      "align_self": null,
      "border": null,
      "bottom": null,
      "display": null,
      "flex": null,
      "flex_flow": null,
      "grid_area": null,
      "grid_auto_columns": null,
      "grid_auto_flow": null,
      "grid_auto_rows": null,
      "grid_column": null,
      "grid_gap": null,
      "grid_row": null,
      "grid_template_areas": null,
      "grid_template_columns": null,
      "grid_template_rows": null,
      "height": null,
      "justify_content": null,
      "justify_items": null,
      "left": null,
      "margin": null,
      "max_height": null,
      "max_width": null,
      "min_height": null,
      "min_width": null,
      "object_fit": null,
      "object_position": null,
      "order": null,
      "overflow": null,
      "overflow_x": null,
      "overflow_y": null,
      "padding": null,
      "right": null,
      "top": null,
      "visibility": null,
      "width": null
     }
    },
    "7a0ba38a78344e4fbe00f230d258803b": {
     "model_module": "@jupyter-widgets/controls",
     "model_name": "HBoxModel",
     "state": {
      "_dom_classes": [],
      "_model_module": "@jupyter-widgets/controls",
      "_model_module_version": "1.5.0",
      "_model_name": "HBoxModel",
      "_view_count": null,
      "_view_module": "@jupyter-widgets/controls",
      "_view_module_version": "1.5.0",
      "_view_name": "HBoxView",
      "box_style": "",
      "children": [
       "IPY_MODEL_ba1acf768b144bbc893825f16ca3a879",
       "IPY_MODEL_3892a912ff7f408cbd868dfb942f1f17"
      ],
      "layout": "IPY_MODEL_916a783b9d2143ba974be7d4ac92502a"
     }
    },
    "8fa5674250cd4a0ca4a9ac8144b2f71d": {
     "model_module": "@jupyter-widgets/controls",
     "model_name": "HTMLModel",
     "state": {
      "_dom_classes": [],
      "_model_module": "@jupyter-widgets/controls",
      "_model_module_version": "1.5.0",
      "_model_name": "HTMLModel",
      "_view_count": null,
      "_view_module": "@jupyter-widgets/controls",
      "_view_module_version": "1.5.0",
      "_view_name": "HTMLView",
      "description": "",
      "description_tooltip": null,
      "layout": "IPY_MODEL_40ee12cb8f9a49a3b18dd9f43d507f93",
      "placeholder": "​",
      "style": "IPY_MODEL_a21f8c689f944d7188bdf646c1df8d84",
      "value": " 50/50 [10:27&lt;00:00, 12.55s/it]"
     }
    },
    "909633e8eab640e5b476443ba2129cb2": {
     "model_module": "@jupyter-widgets/controls",
     "model_name": "ProgressStyleModel",
     "state": {
      "_model_module": "@jupyter-widgets/controls",
      "_model_module_version": "1.5.0",
      "_model_name": "ProgressStyleModel",
      "_view_count": null,
      "_view_module": "@jupyter-widgets/base",
      "_view_module_version": "1.2.0",
      "_view_name": "StyleView",
      "bar_color": null,
      "description_width": "initial"
     }
    },
    "916a783b9d2143ba974be7d4ac92502a": {
     "model_module": "@jupyter-widgets/base",
     "model_name": "LayoutModel",
     "state": {
      "_model_module": "@jupyter-widgets/base",
      "_model_module_version": "1.2.0",
      "_model_name": "LayoutModel",
      "_view_count": null,
      "_view_module": "@jupyter-widgets/base",
      "_view_module_version": "1.2.0",
      "_view_name": "LayoutView",
      "align_content": null,
      "align_items": null,
      "align_self": null,
      "border": null,
      "bottom": null,
      "display": null,
      "flex": null,
      "flex_flow": null,
      "grid_area": null,
      "grid_auto_columns": null,
      "grid_auto_flow": null,
      "grid_auto_rows": null,
      "grid_column": null,
      "grid_gap": null,
      "grid_row": null,
      "grid_template_areas": null,
      "grid_template_columns": null,
      "grid_template_rows": null,
      "height": null,
      "justify_content": null,
      "justify_items": null,
      "left": null,
      "margin": null,
      "max_height": null,
      "max_width": null,
      "min_height": null,
      "min_width": null,
      "object_fit": null,
      "object_position": null,
      "order": null,
      "overflow": null,
      "overflow_x": null,
      "overflow_y": null,
      "padding": null,
      "right": null,
      "top": null,
      "visibility": null,
      "width": null
     }
    },
    "935edc61976642949ab10b2f8270b1dc": {
     "model_module": "@jupyter-widgets/base",
     "model_name": "LayoutModel",
     "state": {
      "_model_module": "@jupyter-widgets/base",
      "_model_module_version": "1.2.0",
      "_model_name": "LayoutModel",
      "_view_count": null,
      "_view_module": "@jupyter-widgets/base",
      "_view_module_version": "1.2.0",
      "_view_name": "LayoutView",
      "align_content": null,
      "align_items": null,
      "align_self": null,
      "border": null,
      "bottom": null,
      "display": null,
      "flex": null,
      "flex_flow": null,
      "grid_area": null,
      "grid_auto_columns": null,
      "grid_auto_flow": null,
      "grid_auto_rows": null,
      "grid_column": null,
      "grid_gap": null,
      "grid_row": null,
      "grid_template_areas": null,
      "grid_template_columns": null,
      "grid_template_rows": null,
      "height": null,
      "justify_content": null,
      "justify_items": null,
      "left": null,
      "margin": null,
      "max_height": null,
      "max_width": null,
      "min_height": null,
      "min_width": null,
      "object_fit": null,
      "object_position": null,
      "order": null,
      "overflow": null,
      "overflow_x": null,
      "overflow_y": null,
      "padding": null,
      "right": null,
      "top": null,
      "visibility": null,
      "width": null
     }
    },
    "95c17e14db1d42c1b9d146a673cd6631": {
     "model_module": "@jupyter-widgets/base",
     "model_name": "LayoutModel",
     "state": {
      "_model_module": "@jupyter-widgets/base",
      "_model_module_version": "1.2.0",
      "_model_name": "LayoutModel",
      "_view_count": null,
      "_view_module": "@jupyter-widgets/base",
      "_view_module_version": "1.2.0",
      "_view_name": "LayoutView",
      "align_content": null,
      "align_items": null,
      "align_self": null,
      "border": null,
      "bottom": null,
      "display": null,
      "flex": null,
      "flex_flow": null,
      "grid_area": null,
      "grid_auto_columns": null,
      "grid_auto_flow": null,
      "grid_auto_rows": null,
      "grid_column": null,
      "grid_gap": null,
      "grid_row": null,
      "grid_template_areas": null,
      "grid_template_columns": null,
      "grid_template_rows": null,
      "height": null,
      "justify_content": null,
      "justify_items": null,
      "left": null,
      "margin": null,
      "max_height": null,
      "max_width": null,
      "min_height": null,
      "min_width": null,
      "object_fit": null,
      "object_position": null,
      "order": null,
      "overflow": null,
      "overflow_x": null,
      "overflow_y": null,
      "padding": null,
      "right": null,
      "top": null,
      "visibility": null,
      "width": null
     }
    },
    "9d789007a3264becbc7ebc6c056ba909": {
     "model_module": "@jupyter-widgets/controls",
     "model_name": "HBoxModel",
     "state": {
      "_dom_classes": [],
      "_model_module": "@jupyter-widgets/controls",
      "_model_module_version": "1.5.0",
      "_model_name": "HBoxModel",
      "_view_count": null,
      "_view_module": "@jupyter-widgets/controls",
      "_view_module_version": "1.5.0",
      "_view_name": "HBoxView",
      "box_style": "",
      "children": [
       "IPY_MODEL_a47782b175254c7c88e43d3cb114e578",
       "IPY_MODEL_d2f13a9c714b442198f1816baa7769f7"
      ],
      "layout": "IPY_MODEL_26512334d75c45aaae6393aad6cc69ab"
     }
    },
    "a185bf3d2d7c4ba0a383add2626c4d7a": {
     "model_module": "@jupyter-widgets/controls",
     "model_name": "HTMLModel",
     "state": {
      "_dom_classes": [],
      "_model_module": "@jupyter-widgets/controls",
      "_model_module_version": "1.5.0",
      "_model_name": "HTMLModel",
      "_view_count": null,
      "_view_module": "@jupyter-widgets/controls",
      "_view_module_version": "1.5.0",
      "_view_name": "HTMLView",
      "description": "",
      "description_tooltip": null,
      "layout": "IPY_MODEL_3ea434791fbb4cbfb8b8e7d4606c4489",
      "placeholder": "​",
      "style": "IPY_MODEL_b90c9a3b35ed422a99280f93d19a73c5",
      "value": " 15/50 [05:32&lt;12:08, 20.82s/it]"
     }
    },
    "a21f8c689f944d7188bdf646c1df8d84": {
     "model_module": "@jupyter-widgets/controls",
     "model_name": "DescriptionStyleModel",
     "state": {
      "_model_module": "@jupyter-widgets/controls",
      "_model_module_version": "1.5.0",
      "_model_name": "DescriptionStyleModel",
      "_view_count": null,
      "_view_module": "@jupyter-widgets/base",
      "_view_module_version": "1.2.0",
      "_view_name": "StyleView",
      "description_width": ""
     }
    },
    "a47782b175254c7c88e43d3cb114e578": {
     "model_module": "@jupyter-widgets/controls",
     "model_name": "FloatProgressModel",
     "state": {
      "_dom_classes": [],
      "_model_module": "@jupyter-widgets/controls",
      "_model_module_version": "1.5.0",
      "_model_name": "FloatProgressModel",
      "_view_count": null,
      "_view_module": "@jupyter-widgets/controls",
      "_view_module_version": "1.5.0",
      "_view_name": "ProgressView",
      "bar_style": "danger",
      "description": " 92%",
      "description_tooltip": null,
      "layout": "IPY_MODEL_935edc61976642949ab10b2f8270b1dc",
      "max": 50,
      "min": 0,
      "orientation": "horizontal",
      "style": "IPY_MODEL_909633e8eab640e5b476443ba2129cb2",
      "value": 46
     }
    },
    "a9062b4f98cc4d258d63f565dbde79be": {
     "model_module": "@jupyter-widgets/base",
     "model_name": "LayoutModel",
     "state": {
      "_model_module": "@jupyter-widgets/base",
      "_model_module_version": "1.2.0",
      "_model_name": "LayoutModel",
      "_view_count": null,
      "_view_module": "@jupyter-widgets/base",
      "_view_module_version": "1.2.0",
      "_view_name": "LayoutView",
      "align_content": null,
      "align_items": null,
      "align_self": null,
      "border": null,
      "bottom": null,
      "display": null,
      "flex": null,
      "flex_flow": null,
      "grid_area": null,
      "grid_auto_columns": null,
      "grid_auto_flow": null,
      "grid_auto_rows": null,
      "grid_column": null,
      "grid_gap": null,
      "grid_row": null,
      "grid_template_areas": null,
      "grid_template_columns": null,
      "grid_template_rows": null,
      "height": null,
      "justify_content": null,
      "justify_items": null,
      "left": null,
      "margin": null,
      "max_height": null,
      "max_width": null,
      "min_height": null,
      "min_width": null,
      "object_fit": null,
      "object_position": null,
      "order": null,
      "overflow": null,
      "overflow_x": null,
      "overflow_y": null,
      "padding": null,
      "right": null,
      "top": null,
      "visibility": null,
      "width": null
     }
    },
    "b0d65ecf22df431db5359f597e16baa3": {
     "model_module": "@jupyter-widgets/base",
     "model_name": "LayoutModel",
     "state": {
      "_model_module": "@jupyter-widgets/base",
      "_model_module_version": "1.2.0",
      "_model_name": "LayoutModel",
      "_view_count": null,
      "_view_module": "@jupyter-widgets/base",
      "_view_module_version": "1.2.0",
      "_view_name": "LayoutView",
      "align_content": null,
      "align_items": null,
      "align_self": null,
      "border": null,
      "bottom": null,
      "display": null,
      "flex": null,
      "flex_flow": null,
      "grid_area": null,
      "grid_auto_columns": null,
      "grid_auto_flow": null,
      "grid_auto_rows": null,
      "grid_column": null,
      "grid_gap": null,
      "grid_row": null,
      "grid_template_areas": null,
      "grid_template_columns": null,
      "grid_template_rows": null,
      "height": null,
      "justify_content": null,
      "justify_items": null,
      "left": null,
      "margin": null,
      "max_height": null,
      "max_width": null,
      "min_height": null,
      "min_width": null,
      "object_fit": null,
      "object_position": null,
      "order": null,
      "overflow": null,
      "overflow_x": null,
      "overflow_y": null,
      "padding": null,
      "right": null,
      "top": null,
      "visibility": null,
      "width": null
     }
    },
    "b90c9a3b35ed422a99280f93d19a73c5": {
     "model_module": "@jupyter-widgets/controls",
     "model_name": "DescriptionStyleModel",
     "state": {
      "_model_module": "@jupyter-widgets/controls",
      "_model_module_version": "1.5.0",
      "_model_name": "DescriptionStyleModel",
      "_view_count": null,
      "_view_module": "@jupyter-widgets/base",
      "_view_module_version": "1.2.0",
      "_view_name": "StyleView",
      "description_width": ""
     }
    },
    "ba1acf768b144bbc893825f16ca3a879": {
     "model_module": "@jupyter-widgets/controls",
     "model_name": "FloatProgressModel",
     "state": {
      "_dom_classes": [],
      "_model_module": "@jupyter-widgets/controls",
      "_model_module_version": "1.5.0",
      "_model_name": "FloatProgressModel",
      "_view_count": null,
      "_view_module": "@jupyter-widgets/controls",
      "_view_module_version": "1.5.0",
      "_view_name": "ProgressView",
      "bar_style": "danger",
      "description": " 12%",
      "description_tooltip": null,
      "layout": "IPY_MODEL_4c7d7f9f376740e3938249a8c9e78ac6",
      "max": 50,
      "min": 0,
      "orientation": "horizontal",
      "style": "IPY_MODEL_4b2e589a27854ff8a1b57f09c5328d49",
      "value": 6
     }
    },
    "be575f1532db48ab8f9158713aa0232b": {
     "model_module": "@jupyter-widgets/base",
     "model_name": "LayoutModel",
     "state": {
      "_model_module": "@jupyter-widgets/base",
      "_model_module_version": "1.2.0",
      "_model_name": "LayoutModel",
      "_view_count": null,
      "_view_module": "@jupyter-widgets/base",
      "_view_module_version": "1.2.0",
      "_view_name": "LayoutView",
      "align_content": null,
      "align_items": null,
      "align_self": null,
      "border": null,
      "bottom": null,
      "display": null,
      "flex": null,
      "flex_flow": null,
      "grid_area": null,
      "grid_auto_columns": null,
      "grid_auto_flow": null,
      "grid_auto_rows": null,
      "grid_column": null,
      "grid_gap": null,
      "grid_row": null,
      "grid_template_areas": null,
      "grid_template_columns": null,
      "grid_template_rows": null,
      "height": null,
      "justify_content": null,
      "justify_items": null,
      "left": null,
      "margin": null,
      "max_height": null,
      "max_width": null,
      "min_height": null,
      "min_width": null,
      "object_fit": null,
      "object_position": null,
      "order": null,
      "overflow": null,
      "overflow_x": null,
      "overflow_y": null,
      "padding": null,
      "right": null,
      "top": null,
      "visibility": null,
      "width": null
     }
    },
    "be98aca98a3344b7b5b2dcdffb94fc51": {
     "model_module": "@jupyter-widgets/base",
     "model_name": "LayoutModel",
     "state": {
      "_model_module": "@jupyter-widgets/base",
      "_model_module_version": "1.2.0",
      "_model_name": "LayoutModel",
      "_view_count": null,
      "_view_module": "@jupyter-widgets/base",
      "_view_module_version": "1.2.0",
      "_view_name": "LayoutView",
      "align_content": null,
      "align_items": null,
      "align_self": null,
      "border": null,
      "bottom": null,
      "display": null,
      "flex": null,
      "flex_flow": null,
      "grid_area": null,
      "grid_auto_columns": null,
      "grid_auto_flow": null,
      "grid_auto_rows": null,
      "grid_column": null,
      "grid_gap": null,
      "grid_row": null,
      "grid_template_areas": null,
      "grid_template_columns": null,
      "grid_template_rows": null,
      "height": null,
      "justify_content": null,
      "justify_items": null,
      "left": null,
      "margin": null,
      "max_height": null,
      "max_width": null,
      "min_height": null,
      "min_width": null,
      "object_fit": null,
      "object_position": null,
      "order": null,
      "overflow": null,
      "overflow_x": null,
      "overflow_y": null,
      "padding": null,
      "right": null,
      "top": null,
      "visibility": null,
      "width": null
     }
    },
    "c845e6b3a8ed4aecab9299165854573e": {
     "model_module": "@jupyter-widgets/controls",
     "model_name": "HTMLModel",
     "state": {
      "_dom_classes": [],
      "_model_module": "@jupyter-widgets/controls",
      "_model_module_version": "1.5.0",
      "_model_name": "HTMLModel",
      "_view_count": null,
      "_view_module": "@jupyter-widgets/controls",
      "_view_module_version": "1.5.0",
      "_view_name": "HTMLView",
      "description": "",
      "description_tooltip": null,
      "layout": "IPY_MODEL_49a25145b4e542c5bc81a787f2f242f2",
      "placeholder": "​",
      "style": "IPY_MODEL_0a9d38a9a4bc4e489ffe2222211b5783",
      "value": " 6/50 [02:23&lt;14:58, 20.42s/it]"
     }
    },
    "c87d3ffc2c6640cab066e1ff614aaad8": {
     "model_module": "@jupyter-widgets/controls",
     "model_name": "ProgressStyleModel",
     "state": {
      "_model_module": "@jupyter-widgets/controls",
      "_model_module_version": "1.5.0",
      "_model_name": "ProgressStyleModel",
      "_view_count": null,
      "_view_module": "@jupyter-widgets/base",
      "_view_module_version": "1.2.0",
      "_view_name": "StyleView",
      "bar_color": null,
      "description_width": "initial"
     }
    },
    "cd00b1ff1d814450a5c87b0c7e6befe2": {
     "model_module": "@jupyter-widgets/controls",
     "model_name": "HTMLModel",
     "state": {
      "_dom_classes": [],
      "_model_module": "@jupyter-widgets/controls",
      "_model_module_version": "1.5.0",
      "_model_name": "HTMLModel",
      "_view_count": null,
      "_view_module": "@jupyter-widgets/controls",
      "_view_module_version": "1.5.0",
      "_view_name": "HTMLView",
      "description": "",
      "description_tooltip": null,
      "layout": "IPY_MODEL_be98aca98a3344b7b5b2dcdffb94fc51",
      "placeholder": "​",
      "style": "IPY_MODEL_493e7aaae59c44fd8450b25ddcab99d8",
      "value": " 170500096/? [00:20&lt;00:00, 53040829.99it/s]"
     }
    },
    "d2f13a9c714b442198f1816baa7769f7": {
     "model_module": "@jupyter-widgets/controls",
     "model_name": "HTMLModel",
     "state": {
      "_dom_classes": [],
      "_model_module": "@jupyter-widgets/controls",
      "_model_module_version": "1.5.0",
      "_model_name": "HTMLModel",
      "_view_count": null,
      "_view_module": "@jupyter-widgets/controls",
      "_view_module_version": "1.5.0",
      "_view_name": "HTMLView",
      "description": "",
      "description_tooltip": null,
      "layout": "IPY_MODEL_3324576ae9e64dd2bb347291ff4d398d",
      "placeholder": "​",
      "style": "IPY_MODEL_748e5de50e1a4b3e8f1b6ac934eeded8",
      "value": " 46/50 [19:36&lt;01:39, 24.98s/it]"
     }
    },
    "da723ef2f74d4450b62aef8e156bc7e8": {
     "model_module": "@jupyter-widgets/controls",
     "model_name": "ProgressStyleModel",
     "state": {
      "_model_module": "@jupyter-widgets/controls",
      "_model_module_version": "1.5.0",
      "_model_name": "ProgressStyleModel",
      "_view_count": null,
      "_view_module": "@jupyter-widgets/base",
      "_view_module_version": "1.2.0",
      "_view_name": "StyleView",
      "bar_color": null,
      "description_width": "initial"
     }
    },
    "e10ddb83f96c44148143c1dcf43632dc": {
     "model_module": "@jupyter-widgets/controls",
     "model_name": "FloatProgressModel",
     "state": {
      "_dom_classes": [],
      "_model_module": "@jupyter-widgets/controls",
      "_model_module_version": "1.5.0",
      "_model_name": "FloatProgressModel",
      "_view_count": null,
      "_view_module": "@jupyter-widgets/controls",
      "_view_module_version": "1.5.0",
      "_view_name": "ProgressView",
      "bar_style": "danger",
      "description": " 12%",
      "description_tooltip": null,
      "layout": "IPY_MODEL_6238796cc60645b6a951ec857f97264d",
      "max": 50,
      "min": 0,
      "orientation": "horizontal",
      "style": "IPY_MODEL_c87d3ffc2c6640cab066e1ff614aaad8",
      "value": 6
     }
    },
    "ee9f5c66a39d46039f709da0cc9c428a": {
     "model_module": "@jupyter-widgets/base",
     "model_name": "LayoutModel",
     "state": {
      "_model_module": "@jupyter-widgets/base",
      "_model_module_version": "1.2.0",
      "_model_name": "LayoutModel",
      "_view_count": null,
      "_view_module": "@jupyter-widgets/base",
      "_view_module_version": "1.2.0",
      "_view_name": "LayoutView",
      "align_content": null,
      "align_items": null,
      "align_self": null,
      "border": null,
      "bottom": null,
      "display": null,
      "flex": null,
      "flex_flow": null,
      "grid_area": null,
      "grid_auto_columns": null,
      "grid_auto_flow": null,
      "grid_auto_rows": null,
      "grid_column": null,
      "grid_gap": null,
      "grid_row": null,
      "grid_template_areas": null,
      "grid_template_columns": null,
      "grid_template_rows": null,
      "height": null,
      "justify_content": null,
      "justify_items": null,
      "left": null,
      "margin": null,
      "max_height": null,
      "max_width": null,
      "min_height": null,
      "min_width": null,
      "object_fit": null,
      "object_position": null,
      "order": null,
      "overflow": null,
      "overflow_x": null,
      "overflow_y": null,
      "padding": null,
      "right": null,
      "top": null,
      "visibility": null,
      "width": null
     }
    },
    "f200ed4600424c21aff169e0b6477bfd": {
     "model_module": "@jupyter-widgets/controls",
     "model_name": "ProgressStyleModel",
     "state": {
      "_model_module": "@jupyter-widgets/controls",
      "_model_module_version": "1.5.0",
      "_model_name": "ProgressStyleModel",
      "_view_count": null,
      "_view_module": "@jupyter-widgets/base",
      "_view_module_version": "1.2.0",
      "_view_name": "StyleView",
      "bar_color": null,
      "description_width": "initial"
     }
    },
    "f3b3e9e5cb6046b9af64a7fd2fcd5274": {
     "model_module": "@jupyter-widgets/controls",
     "model_name": "ProgressStyleModel",
     "state": {
      "_model_module": "@jupyter-widgets/controls",
      "_model_module_version": "1.5.0",
      "_model_name": "ProgressStyleModel",
      "_view_count": null,
      "_view_module": "@jupyter-widgets/base",
      "_view_module_version": "1.2.0",
      "_view_name": "StyleView",
      "bar_color": null,
      "description_width": "initial"
     }
    },
    "f5ecbb13c9f7419d9761aef2932e6cbc": {
     "model_module": "@jupyter-widgets/controls",
     "model_name": "HTMLModel",
     "state": {
      "_dom_classes": [],
      "_model_module": "@jupyter-widgets/controls",
      "_model_module_version": "1.5.0",
      "_model_name": "HTMLModel",
      "_view_count": null,
      "_view_module": "@jupyter-widgets/controls",
      "_view_module_version": "1.5.0",
      "_view_name": "HTMLView",
      "description": "",
      "description_tooltip": null,
      "layout": "IPY_MODEL_30a086211e7240448636751b69343deb",
      "placeholder": "​",
      "style": "IPY_MODEL_00e0475d7a2340bc963b1f0483ad6297",
      "value": " 6/50 [02:09&lt;13:33, 18.50s/it]"
     }
    },
    "f608e23b92354935b344de2e76ae9592": {
     "model_module": "@jupyter-widgets/controls",
     "model_name": "FloatProgressModel",
     "state": {
      "_dom_classes": [],
      "_model_module": "@jupyter-widgets/controls",
      "_model_module_version": "1.5.0",
      "_model_name": "FloatProgressModel",
      "_view_count": null,
      "_view_module": "@jupyter-widgets/controls",
      "_view_module_version": "1.5.0",
      "_view_name": "ProgressView",
      "bar_style": "danger",
      "description": " 30%",
      "description_tooltip": null,
      "layout": "IPY_MODEL_ee9f5c66a39d46039f709da0cc9c428a",
      "max": 50,
      "min": 0,
      "orientation": "horizontal",
      "style": "IPY_MODEL_f3b3e9e5cb6046b9af64a7fd2fcd5274",
      "value": 15
     }
    },
    "f843ccaa8b1e4757ad35c50f0729b0cf": {
     "model_module": "@jupyter-widgets/base",
     "model_name": "LayoutModel",
     "state": {
      "_model_module": "@jupyter-widgets/base",
      "_model_module_version": "1.2.0",
      "_model_name": "LayoutModel",
      "_view_count": null,
      "_view_module": "@jupyter-widgets/base",
      "_view_module_version": "1.2.0",
      "_view_name": "LayoutView",
      "align_content": null,
      "align_items": null,
      "align_self": null,
      "border": null,
      "bottom": null,
      "display": null,
      "flex": null,
      "flex_flow": null,
      "grid_area": null,
      "grid_auto_columns": null,
      "grid_auto_flow": null,
      "grid_auto_rows": null,
      "grid_column": null,
      "grid_gap": null,
      "grid_row": null,
      "grid_template_areas": null,
      "grid_template_columns": null,
      "grid_template_rows": null,
      "height": null,
      "justify_content": null,
      "justify_items": null,
      "left": null,
      "margin": null,
      "max_height": null,
      "max_width": null,
      "min_height": null,
      "min_width": null,
      "object_fit": null,
      "object_position": null,
      "order": null,
      "overflow": null,
      "overflow_x": null,
      "overflow_y": null,
      "padding": null,
      "right": null,
      "top": null,
      "visibility": null,
      "width": null
     }
    },
    "f9d269bfcddf4e3bbaa27795a9128dff": {
     "model_module": "@jupyter-widgets/controls",
     "model_name": "HBoxModel",
     "state": {
      "_dom_classes": [],
      "_model_module": "@jupyter-widgets/controls",
      "_model_module_version": "1.5.0",
      "_model_name": "HBoxModel",
      "_view_count": null,
      "_view_module": "@jupyter-widgets/controls",
      "_view_module_version": "1.5.0",
      "_view_name": "HBoxView",
      "box_style": "",
      "children": [
       "IPY_MODEL_24a57e6203794641b08ef6a173d22769",
       "IPY_MODEL_cd00b1ff1d814450a5c87b0c7e6befe2"
      ],
      "layout": "IPY_MODEL_b0d65ecf22df431db5359f597e16baa3"
     }
    },
    "ff01351eaf694b92ac1b5b1244a02ec9": {
     "model_module": "@jupyter-widgets/controls",
     "model_name": "DescriptionStyleModel",
     "state": {
      "_model_module": "@jupyter-widgets/controls",
      "_model_module_version": "1.5.0",
      "_model_name": "DescriptionStyleModel",
      "_view_count": null,
      "_view_module": "@jupyter-widgets/base",
      "_view_module_version": "1.2.0",
      "_view_name": "StyleView",
      "description_width": ""
     }
    }
   }
  }
 },
 "nbformat": 4,
 "nbformat_minor": 1
}
